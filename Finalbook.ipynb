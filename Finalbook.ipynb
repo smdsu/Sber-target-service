{
 "cells": [
  {
   "cell_type": "code",
   "execution_count": 1,
   "id": "2dc4b7ea-32e6-4eb6-804c-be43ec00ed97",
   "metadata": {
    "ExecuteTime": {
     "end_time": "2024-05-09T10:21:02.786302Z",
     "start_time": "2024-05-09T10:21:01.912913Z"
    }
   },
   "outputs": [],
   "source": [
    "import gc\n",
    "\n",
    "import pandas as pd\n",
    "import matplotlib.pyplot as plt\n",
    "import seaborn as sns\n",
    "import missingno as msno\n",
    "\n",
    "from matplotlib.ticker import FormatStrFormatter\n",
    "from sklearn.preprocessing import StandardScaler, OrdinalEncoder\n",
    "from sklearn.ensemble import RandomForestClassifier\n",
    "from sklearn.linear_model import LogisticRegression\n",
    "from sklearn.svm import SVC\n",
    "from sklearn.model_selection import train_test_split\n",
    "from sklearn.metrics import roc_auc_score\n"
   ]
  },
  {
   "cell_type": "code",
   "execution_count": 2,
   "id": "db4046a8-aa88-47dd-bf32-1964e5fead01",
   "metadata": {},
   "outputs": [
    {
     "data": {
      "text/html": [
       "<div>\n",
       "<style scoped>\n",
       "    .dataframe tbody tr th:only-of-type {\n",
       "        vertical-align: middle;\n",
       "    }\n",
       "\n",
       "    .dataframe tbody tr th {\n",
       "        vertical-align: top;\n",
       "    }\n",
       "\n",
       "    .dataframe thead th {\n",
       "        text-align: right;\n",
       "    }\n",
       "</style>\n",
       "<table border=\"1\" class=\"dataframe\">\n",
       "  <thead>\n",
       "    <tr style=\"text-align: right;\">\n",
       "      <th></th>\n",
       "      <th>session_id</th>\n",
       "      <th>client_id</th>\n",
       "      <th>visit_date</th>\n",
       "      <th>visit_time</th>\n",
       "      <th>visit_number</th>\n",
       "      <th>utm_source</th>\n",
       "      <th>utm_medium</th>\n",
       "      <th>utm_campaign</th>\n",
       "      <th>utm_adcontent</th>\n",
       "      <th>device_category</th>\n",
       "      <th>...</th>\n",
       "      <th>device_screen_resolution</th>\n",
       "      <th>device_browser</th>\n",
       "      <th>geo_country</th>\n",
       "      <th>geo_city</th>\n",
       "      <th>hit_date</th>\n",
       "      <th>hit_number</th>\n",
       "      <th>hit_type</th>\n",
       "      <th>hit_page_path</th>\n",
       "      <th>event_category</th>\n",
       "      <th>event_action</th>\n",
       "    </tr>\n",
       "  </thead>\n",
       "  <tbody>\n",
       "    <tr>\n",
       "      <th>0</th>\n",
       "      <td>9055434745589932991.1637753792.1637753792</td>\n",
       "      <td>2.108383e+09</td>\n",
       "      <td>2021-11-24</td>\n",
       "      <td>14:36:32</td>\n",
       "      <td>1</td>\n",
       "      <td>ZpYIoDJMcFzVoPFsHGJL</td>\n",
       "      <td>banner</td>\n",
       "      <td>LEoPHuyFvzoNfnzGgfcd</td>\n",
       "      <td>vCIpmpaGBnIQhyYNkXqp</td>\n",
       "      <td>mobile</td>\n",
       "      <td>...</td>\n",
       "      <td>360x720</td>\n",
       "      <td>Chrome</td>\n",
       "      <td>Russia</td>\n",
       "      <td>Zlatoust</td>\n",
       "      <td>2021-11-24</td>\n",
       "      <td>3</td>\n",
       "      <td>event</td>\n",
       "      <td>podpiska.sberauto.com/</td>\n",
       "      <td>sub_page_view</td>\n",
       "      <td>sub_landing</td>\n",
       "    </tr>\n",
       "    <tr>\n",
       "      <th>1</th>\n",
       "      <td>9055434745589932991.1637753792.1637753792</td>\n",
       "      <td>2.108383e+09</td>\n",
       "      <td>2021-11-24</td>\n",
       "      <td>14:36:32</td>\n",
       "      <td>1</td>\n",
       "      <td>ZpYIoDJMcFzVoPFsHGJL</td>\n",
       "      <td>banner</td>\n",
       "      <td>LEoPHuyFvzoNfnzGgfcd</td>\n",
       "      <td>vCIpmpaGBnIQhyYNkXqp</td>\n",
       "      <td>mobile</td>\n",
       "      <td>...</td>\n",
       "      <td>360x720</td>\n",
       "      <td>Chrome</td>\n",
       "      <td>Russia</td>\n",
       "      <td>Zlatoust</td>\n",
       "      <td>2021-11-24</td>\n",
       "      <td>4</td>\n",
       "      <td>event</td>\n",
       "      <td>podpiska.sberauto.com/</td>\n",
       "      <td>sub_button_click</td>\n",
       "      <td>sub_view_cars_click</td>\n",
       "    </tr>\n",
       "    <tr>\n",
       "      <th>2</th>\n",
       "      <td>905544597018549464.1636867290.1636867290</td>\n",
       "      <td>2.108385e+08</td>\n",
       "      <td>2021-11-14</td>\n",
       "      <td>08:21:30</td>\n",
       "      <td>1</td>\n",
       "      <td>MvfHsxITijuriZxsqZqt</td>\n",
       "      <td>cpm</td>\n",
       "      <td>FTjNLDyTrXaWYgZymFkV</td>\n",
       "      <td>xhoenQgDQsgfEPYNPwKO</td>\n",
       "      <td>mobile</td>\n",
       "      <td>...</td>\n",
       "      <td>385x854</td>\n",
       "      <td>Samsung Internet</td>\n",
       "      <td>Russia</td>\n",
       "      <td>Moscow</td>\n",
       "      <td>2021-11-14</td>\n",
       "      <td>3</td>\n",
       "      <td>event</td>\n",
       "      <td>podpiska.sberauto.com/</td>\n",
       "      <td>sub_page_view</td>\n",
       "      <td>sub_landing</td>\n",
       "    </tr>\n",
       "    <tr>\n",
       "      <th>3</th>\n",
       "      <td>9055446045651783499.1640648526.1640648526</td>\n",
       "      <td>2.108385e+09</td>\n",
       "      <td>2021-12-28</td>\n",
       "      <td>02:42:06</td>\n",
       "      <td>1</td>\n",
       "      <td>ZpYIoDJMcFzVoPFsHGJL</td>\n",
       "      <td>banner</td>\n",
       "      <td>LEoPHuyFvzoNfnzGgfcd</td>\n",
       "      <td>vCIpmpaGBnIQhyYNkXqp</td>\n",
       "      <td>mobile</td>\n",
       "      <td>...</td>\n",
       "      <td>360x720</td>\n",
       "      <td>Chrome</td>\n",
       "      <td>Russia</td>\n",
       "      <td>Krasnoyarsk</td>\n",
       "      <td>2021-12-28</td>\n",
       "      <td>10</td>\n",
       "      <td>event</td>\n",
       "      <td>sberauto.com/cars?utm_source_initial=sbol&amp;utm_...</td>\n",
       "      <td>search_form</td>\n",
       "      <td>search_form_region</td>\n",
       "    </tr>\n",
       "    <tr>\n",
       "      <th>4</th>\n",
       "      <td>9055446045651783499.1640648526.1640648526</td>\n",
       "      <td>2.108385e+09</td>\n",
       "      <td>2021-12-28</td>\n",
       "      <td>02:42:06</td>\n",
       "      <td>1</td>\n",
       "      <td>ZpYIoDJMcFzVoPFsHGJL</td>\n",
       "      <td>banner</td>\n",
       "      <td>LEoPHuyFvzoNfnzGgfcd</td>\n",
       "      <td>vCIpmpaGBnIQhyYNkXqp</td>\n",
       "      <td>mobile</td>\n",
       "      <td>...</td>\n",
       "      <td>360x720</td>\n",
       "      <td>Chrome</td>\n",
       "      <td>Russia</td>\n",
       "      <td>Krasnoyarsk</td>\n",
       "      <td>2021-12-28</td>\n",
       "      <td>13</td>\n",
       "      <td>event</td>\n",
       "      <td>sberauto.com/cars?utm_source_initial=sbol&amp;utm_...</td>\n",
       "      <td>search_form</td>\n",
       "      <td>search_form_region</td>\n",
       "    </tr>\n",
       "  </tbody>\n",
       "</table>\n",
       "<p>5 rows × 21 columns</p>\n",
       "</div>"
      ],
      "text/plain": [
       "                                  session_id     client_id  visit_date  \\\n",
       "0  9055434745589932991.1637753792.1637753792  2.108383e+09  2021-11-24   \n",
       "1  9055434745589932991.1637753792.1637753792  2.108383e+09  2021-11-24   \n",
       "2   905544597018549464.1636867290.1636867290  2.108385e+08  2021-11-14   \n",
       "3  9055446045651783499.1640648526.1640648526  2.108385e+09  2021-12-28   \n",
       "4  9055446045651783499.1640648526.1640648526  2.108385e+09  2021-12-28   \n",
       "\n",
       "  visit_time  visit_number            utm_source utm_medium  \\\n",
       "0   14:36:32             1  ZpYIoDJMcFzVoPFsHGJL     banner   \n",
       "1   14:36:32             1  ZpYIoDJMcFzVoPFsHGJL     banner   \n",
       "2   08:21:30             1  MvfHsxITijuriZxsqZqt        cpm   \n",
       "3   02:42:06             1  ZpYIoDJMcFzVoPFsHGJL     banner   \n",
       "4   02:42:06             1  ZpYIoDJMcFzVoPFsHGJL     banner   \n",
       "\n",
       "           utm_campaign         utm_adcontent device_category  ...  \\\n",
       "0  LEoPHuyFvzoNfnzGgfcd  vCIpmpaGBnIQhyYNkXqp          mobile  ...   \n",
       "1  LEoPHuyFvzoNfnzGgfcd  vCIpmpaGBnIQhyYNkXqp          mobile  ...   \n",
       "2  FTjNLDyTrXaWYgZymFkV  xhoenQgDQsgfEPYNPwKO          mobile  ...   \n",
       "3  LEoPHuyFvzoNfnzGgfcd  vCIpmpaGBnIQhyYNkXqp          mobile  ...   \n",
       "4  LEoPHuyFvzoNfnzGgfcd  vCIpmpaGBnIQhyYNkXqp          mobile  ...   \n",
       "\n",
       "  device_screen_resolution    device_browser geo_country     geo_city  \\\n",
       "0                  360x720            Chrome      Russia     Zlatoust   \n",
       "1                  360x720            Chrome      Russia     Zlatoust   \n",
       "2                  385x854  Samsung Internet      Russia       Moscow   \n",
       "3                  360x720            Chrome      Russia  Krasnoyarsk   \n",
       "4                  360x720            Chrome      Russia  Krasnoyarsk   \n",
       "\n",
       "     hit_date hit_number  hit_type  \\\n",
       "0  2021-11-24          3     event   \n",
       "1  2021-11-24          4     event   \n",
       "2  2021-11-14          3     event   \n",
       "3  2021-12-28         10     event   \n",
       "4  2021-12-28         13     event   \n",
       "\n",
       "                                       hit_page_path    event_category  \\\n",
       "0                             podpiska.sberauto.com/     sub_page_view   \n",
       "1                             podpiska.sberauto.com/  sub_button_click   \n",
       "2                             podpiska.sberauto.com/     sub_page_view   \n",
       "3  sberauto.com/cars?utm_source_initial=sbol&utm_...       search_form   \n",
       "4  sberauto.com/cars?utm_source_initial=sbol&utm_...       search_form   \n",
       "\n",
       "          event_action  \n",
       "0          sub_landing  \n",
       "1  sub_view_cars_click  \n",
       "2          sub_landing  \n",
       "3   search_form_region  \n",
       "4   search_form_region  \n",
       "\n",
       "[5 rows x 21 columns]"
      ]
     },
     "execution_count": 2,
     "metadata": {},
     "output_type": "execute_result"
    }
   ],
   "source": [
    "df = pd.read_csv('data/first_all.csv')\n",
    "df.head()"
   ]
  },
  {
   "cell_type": "markdown",
   "id": "2e398127-6376-4ad9-a329-ef588971215d",
   "metadata": {},
   "source": [
    "# Data preparation"
   ]
  },
  {
   "cell_type": "markdown",
   "id": "ad37704b-d95e-46c4-93e5-96b246bb88d2",
   "metadata": {},
   "source": [
    "## Data cleaning"
   ]
  },
  {
   "cell_type": "code",
   "execution_count": 3,
   "id": "fa6b8a34-42f8-4b0e-a3ff-38da095533e7",
   "metadata": {},
   "outputs": [
    {
     "name": "stdout",
     "output_type": "stream",
     "text": [
      "<class 'pandas.core.frame.DataFrame'>\n",
      "RangeIndex: 15685219 entries, 0 to 15685218\n",
      "Data columns (total 21 columns):\n",
      " #   Column                    Dtype  \n",
      "---  ------                    -----  \n",
      " 0   session_id                object \n",
      " 1   client_id                 float64\n",
      " 2   visit_date                object \n",
      " 3   visit_time                object \n",
      " 4   visit_number              int64  \n",
      " 5   utm_source                object \n",
      " 6   utm_medium                object \n",
      " 7   utm_campaign              object \n",
      " 8   utm_adcontent             object \n",
      " 9   device_category           object \n",
      " 10  device_brand              object \n",
      " 11  device_screen_resolution  object \n",
      " 12  device_browser            object \n",
      " 13  geo_country               object \n",
      " 14  geo_city                  object \n",
      " 15  hit_date                  object \n",
      " 16  hit_number                int64  \n",
      " 17  hit_type                  object \n",
      " 18  hit_page_path             object \n",
      " 19  event_category            object \n",
      " 20  event_action              object \n",
      "dtypes: float64(1), int64(2), object(18)\n",
      "memory usage: 2.5+ GB\n"
     ]
    }
   ],
   "source": [
    "df.info()"
   ]
  },
  {
   "cell_type": "code",
   "execution_count": 4,
   "id": "8696b63e-8d1f-4a4f-beab-bfd6d6ed48d3",
   "metadata": {},
   "outputs": [],
   "source": [
    "def print_useful_rows_info(data):\n",
    "    print(f'Количество полностью заполненных объектов из всей выборки: {len(data.dropna())}')\n",
    "    print(f'Процент полностью заполенных объектов из всей выборки: {round((len(data.dropna()) / len(data)) * 100, 2)}%')\n",
    "def print_missing_values(data):\n",
    "    missing_values = ((data.isna().sum() / len(data)) * 100).sort_values()\n",
    "    print(f'Процент пропущенных значений в колонках:')\n",
    "    print(missing_values)"
   ]
  },
  {
   "cell_type": "code",
   "execution_count": 5,
   "id": "9d526517-85e4-4912-a5f1-7ed8b4208cc8",
   "metadata": {},
   "outputs": [
    {
     "name": "stdout",
     "output_type": "stream",
     "text": [
      "Количество полностью заполненных объектов из всей выборки: 9765584\n",
      "Процент полностью заполенных объектов из всей выборки: 62.26%\n"
     ]
    }
   ],
   "source": [
    "print_useful_rows_info(df)"
   ]
  },
  {
   "cell_type": "code",
   "execution_count": 6,
   "id": "bd849ae2-1ff2-41e9-ad47-70f11b8fc025",
   "metadata": {},
   "outputs": [
    {
     "data": {
      "text/plain": [
       "<Axes: >"
      ]
     },
     "execution_count": 6,
     "metadata": {},
     "output_type": "execute_result"
    },
    {
     "data": {
      "image/png": "[encoded data removed]",
      "text/plain": [
       "<Figure size 2500x1000 with 3 Axes>"
      ]
     },
     "metadata": {},
     "output_type": "display_data"
    }
   ],
   "source": [
    "msno.bar(df)"
   ]
  },
  {
   "cell_type": "code",
   "execution_count": 7,
   "id": "fde07865-6a0b-4d7d-b66c-fafb92f7e37e",
   "metadata": {},
   "outputs": [
    {
     "name": "stdout",
     "output_type": "stream",
     "text": [
      "Процент пропущенных значений в колонках:\n",
      "session_id                   0.000000\n",
      "hit_page_path                0.000000\n",
      "hit_type                     0.000000\n",
      "hit_number                   0.000000\n",
      "hit_date                     0.000000\n",
      "geo_city                     0.000000\n",
      "geo_country                  0.000000\n",
      "device_browser               0.000000\n",
      "device_screen_resolution     0.000000\n",
      "event_category               0.000000\n",
      "event_action                 0.000000\n",
      "utm_medium                   0.000000\n",
      "visit_number                 0.000000\n",
      "visit_time                   0.000000\n",
      "visit_date                   0.000000\n",
      "client_id                    0.000000\n",
      "device_category              0.000000\n",
      "utm_source                   0.004463\n",
      "utm_campaign                14.018759\n",
      "utm_adcontent               18.057880\n",
      "device_brand                25.156646\n",
      "dtype: float64\n"
     ]
    }
   ],
   "source": [
    "print_missing_values(df)"
   ]
  },
  {
   "cell_type": "code",
   "execution_count": 8,
   "id": "e501bfd0-d045-4e40-a208-0f1776b280c1",
   "metadata": {},
   "outputs": [
    {
     "data": {
      "text/plain": [
       "0"
      ]
     },
     "execution_count": 8,
     "metadata": {},
     "output_type": "execute_result"
    }
   ],
   "source": [
    "df.device_brand.fillna('other', inplace=True)\n",
    "df.device_brand.isna().sum()"
   ]
  },
  {
   "cell_type": "code",
   "execution_count": 9,
   "id": "5c5fc26a-7a53-4608-a8e6-969588655a3a",
   "metadata": {},
   "outputs": [
    {
     "data": {
      "text/plain": [
       "utm_adcontent\n",
       "JNHcPlZPxEMWDnRiyoBf    9647665\n",
       "NaN                     2832418\n",
       "vCIpmpaGBnIQhyYNkXqp    1806637\n",
       "xhoenQgDQsgfEPYNPwKO     345071\n",
       "PkybGvWbaqORmxjNunqZ     199457\n",
       "                         ...   \n",
       "EFePHapVShTKxBNclrhX          1\n",
       "WbXQsVOKLOcJrHikuQTZ          1\n",
       "gQEnaeQmOHisHSTEyzhp          1\n",
       "vXARZToVDdvNhALiQtvl          1\n",
       "fBRoTJlPSQvdkRoAJkVN          1\n",
       "Name: count, Length: 281, dtype: int64"
      ]
     },
     "execution_count": 9,
     "metadata": {},
     "output_type": "execute_result"
    }
   ],
   "source": [
    "df.utm_adcontent.value_counts(dropna=False)"
   ]
  },
  {
   "cell_type": "code",
   "execution_count": 10,
   "id": "cd70455b-4413-46e8-a11b-dd0d9d12d647",
   "metadata": {},
   "outputs": [
    {
     "data": {
      "text/plain": [
       "0"
      ]
     },
     "execution_count": 10,
     "metadata": {},
     "output_type": "execute_result"
    }
   ],
   "source": [
    "df.utm_adcontent.fillna(df.utm_adcontent.mode()[0], inplace=True)\n",
    "df.utm_adcontent.isna().sum()"
   ]
  },
  {
   "cell_type": "code",
   "execution_count": 11,
   "id": "dca4eb6a-b15b-4f13-b10a-effca7b65a10",
   "metadata": {},
   "outputs": [
    {
     "data": {
      "text/plain": [
       "0"
      ]
     },
     "execution_count": 11,
     "metadata": {},
     "output_type": "execute_result"
    }
   ],
   "source": [
    "df.utm_campaign.fillna(df.utm_campaign.mode()[0], inplace=True)\n",
    "df.utm_campaign.isna().sum()"
   ]
  },
  {
   "cell_type": "code",
   "execution_count": 12,
   "id": "bd723edd-0e7e-4ed9-9e20-da489faf5978",
   "metadata": {},
   "outputs": [
    {
     "data": {
      "text/plain": [
       "0"
      ]
     },
     "execution_count": 12,
     "metadata": {},
     "output_type": "execute_result"
    }
   ],
   "source": [
    "df.utm_source.fillna(df.utm_source.mode()[0], inplace=True)\n",
    "df.utm_source.isna().sum()"
   ]
  },
  {
   "cell_type": "code",
   "execution_count": 13,
   "id": "6e803c49-4541-486a-9df6-df2d9aaa2510",
   "metadata": {},
   "outputs": [
    {
     "name": "stdout",
     "output_type": "stream",
     "text": [
      "Процент пропущенных значений в колонках:\n",
      "session_id                  0.0\n",
      "hit_page_path               0.0\n",
      "hit_type                    0.0\n",
      "hit_number                  0.0\n",
      "hit_date                    0.0\n",
      "geo_city                    0.0\n",
      "geo_country                 0.0\n",
      "device_browser              0.0\n",
      "device_screen_resolution    0.0\n",
      "event_category              0.0\n",
      "device_brand                0.0\n",
      "utm_adcontent               0.0\n",
      "utm_campaign                0.0\n",
      "utm_medium                  0.0\n",
      "utm_source                  0.0\n",
      "visit_number                0.0\n",
      "visit_time                  0.0\n",
      "visit_date                  0.0\n",
      "client_id                   0.0\n",
      "device_category             0.0\n",
      "event_action                0.0\n",
      "dtype: float64\n"
     ]
    }
   ],
   "source": [
    "print_missing_values(df)"
   ]
  },
  {
   "cell_type": "code",
   "execution_count": 14,
   "id": "595aeabd-d004-4501-8313-88a9a94b0f3c",
   "metadata": {},
   "outputs": [
    {
     "name": "stdout",
     "output_type": "stream",
     "text": [
      "Количество полностью заполненных объектов из всей выборки: 15685219\n",
      "Процент полностью заполенных объектов из всей выборки: 100.0%\n"
     ]
    }
   ],
   "source": [
    "print_useful_rows_info(df)"
   ]
  },
  {
   "cell_type": "code",
   "execution_count": null,
   "id": "acc2ce94-1e10-4cc1-be4f-e37c10519e65",
   "metadata": {},
   "outputs": [],
   "source": [
    "df.drop_duplicates(inplace=True)"
   ]
  },
  {
   "cell_type": "markdown",
   "id": "e47bdab4-1769-41f5-b3d6-f85cecf61754",
   "metadata": {
    "jp-MarkdownHeadingCollapsed": true
   },
   "source": [
    "## Data Visualisation"
   ]
  },
  {
   "cell_type": "code",
   "execution_count": 15,
   "id": "956b66ce-de3e-4ae9-b152-416670858491",
   "metadata": {},
   "outputs": [
    {
     "name": "stdout",
     "output_type": "stream",
     "text": [
      "<class 'pandas.core.frame.DataFrame'>\n",
      "RangeIndex: 15685219 entries, 0 to 15685218\n",
      "Data columns (total 21 columns):\n",
      " #   Column                    Dtype  \n",
      "---  ------                    -----  \n",
      " 0   session_id                object \n",
      " 1   client_id                 float64\n",
      " 2   visit_date                object \n",
      " 3   visit_time                object \n",
      " 4   visit_number              int64  \n",
      " 5   utm_source                object \n",
      " 6   utm_medium                object \n",
      " 7   utm_campaign              object \n",
      " 8   utm_adcontent             object \n",
      " 9   device_category           object \n",
      " 10  device_brand              object \n",
      " 11  device_screen_resolution  object \n",
      " 12  device_browser            object \n",
      " 13  geo_country               object \n",
      " 14  geo_city                  object \n",
      " 15  hit_date                  object \n",
      " 16  hit_number                int64  \n",
      " 17  hit_type                  object \n",
      " 18  hit_page_path             object \n",
      " 19  event_category            object \n",
      " 20  event_action              object \n",
      "dtypes: float64(1), int64(2), object(18)\n",
      "memory usage: 2.5+ GB\n"
     ]
    }
   ],
   "source": [
    "df.info()"
   ]
  },
  {
   "cell_type": "code",
   "execution_count": 16,
   "id": "b3d4e5be-a706-4dc4-8289-dab89e3d7d94",
   "metadata": {},
   "outputs": [
    {
     "data": {
      "text/html": [
       "<div>\n",
       "<style scoped>\n",
       "    .dataframe tbody tr th:only-of-type {\n",
       "        vertical-align: middle;\n",
       "    }\n",
       "\n",
       "    .dataframe tbody tr th {\n",
       "        vertical-align: top;\n",
       "    }\n",
       "\n",
       "    .dataframe thead th {\n",
       "        text-align: right;\n",
       "    }\n",
       "</style>\n",
       "<table border=\"1\" class=\"dataframe\">\n",
       "  <thead>\n",
       "    <tr style=\"text-align: right;\">\n",
       "      <th></th>\n",
       "      <th>session_id</th>\n",
       "      <th>client_id</th>\n",
       "      <th>visit_date</th>\n",
       "      <th>visit_time</th>\n",
       "      <th>visit_number</th>\n",
       "      <th>utm_source</th>\n",
       "      <th>utm_medium</th>\n",
       "      <th>utm_campaign</th>\n",
       "      <th>utm_adcontent</th>\n",
       "      <th>device_category</th>\n",
       "      <th>...</th>\n",
       "      <th>device_screen_resolution</th>\n",
       "      <th>device_browser</th>\n",
       "      <th>geo_country</th>\n",
       "      <th>geo_city</th>\n",
       "      <th>hit_date</th>\n",
       "      <th>hit_number</th>\n",
       "      <th>hit_type</th>\n",
       "      <th>hit_page_path</th>\n",
       "      <th>event_category</th>\n",
       "      <th>event_action</th>\n",
       "    </tr>\n",
       "  </thead>\n",
       "  <tbody>\n",
       "    <tr>\n",
       "      <th>0</th>\n",
       "      <td>9055434745589932991.1637753792.1637753792</td>\n",
       "      <td>2.108383e+09</td>\n",
       "      <td>2021-11-24</td>\n",
       "      <td>14:36:32</td>\n",
       "      <td>1</td>\n",
       "      <td>ZpYIoDJMcFzVoPFsHGJL</td>\n",
       "      <td>banner</td>\n",
       "      <td>LEoPHuyFvzoNfnzGgfcd</td>\n",
       "      <td>vCIpmpaGBnIQhyYNkXqp</td>\n",
       "      <td>mobile</td>\n",
       "      <td>...</td>\n",
       "      <td>360x720</td>\n",
       "      <td>Chrome</td>\n",
       "      <td>Russia</td>\n",
       "      <td>Zlatoust</td>\n",
       "      <td>2021-11-24</td>\n",
       "      <td>3</td>\n",
       "      <td>event</td>\n",
       "      <td>podpiska.sberauto.com/</td>\n",
       "      <td>sub_page_view</td>\n",
       "      <td>sub_landing</td>\n",
       "    </tr>\n",
       "    <tr>\n",
       "      <th>1</th>\n",
       "      <td>9055434745589932991.1637753792.1637753792</td>\n",
       "      <td>2.108383e+09</td>\n",
       "      <td>2021-11-24</td>\n",
       "      <td>14:36:32</td>\n",
       "      <td>1</td>\n",
       "      <td>ZpYIoDJMcFzVoPFsHGJL</td>\n",
       "      <td>banner</td>\n",
       "      <td>LEoPHuyFvzoNfnzGgfcd</td>\n",
       "      <td>vCIpmpaGBnIQhyYNkXqp</td>\n",
       "      <td>mobile</td>\n",
       "      <td>...</td>\n",
       "      <td>360x720</td>\n",
       "      <td>Chrome</td>\n",
       "      <td>Russia</td>\n",
       "      <td>Zlatoust</td>\n",
       "      <td>2021-11-24</td>\n",
       "      <td>4</td>\n",
       "      <td>event</td>\n",
       "      <td>podpiska.sberauto.com/</td>\n",
       "      <td>sub_button_click</td>\n",
       "      <td>sub_view_cars_click</td>\n",
       "    </tr>\n",
       "    <tr>\n",
       "      <th>2</th>\n",
       "      <td>905544597018549464.1636867290.1636867290</td>\n",
       "      <td>2.108385e+08</td>\n",
       "      <td>2021-11-14</td>\n",
       "      <td>08:21:30</td>\n",
       "      <td>1</td>\n",
       "      <td>MvfHsxITijuriZxsqZqt</td>\n",
       "      <td>cpm</td>\n",
       "      <td>FTjNLDyTrXaWYgZymFkV</td>\n",
       "      <td>xhoenQgDQsgfEPYNPwKO</td>\n",
       "      <td>mobile</td>\n",
       "      <td>...</td>\n",
       "      <td>385x854</td>\n",
       "      <td>Samsung Internet</td>\n",
       "      <td>Russia</td>\n",
       "      <td>Moscow</td>\n",
       "      <td>2021-11-14</td>\n",
       "      <td>3</td>\n",
       "      <td>event</td>\n",
       "      <td>podpiska.sberauto.com/</td>\n",
       "      <td>sub_page_view</td>\n",
       "      <td>sub_landing</td>\n",
       "    </tr>\n",
       "    <tr>\n",
       "      <th>3</th>\n",
       "      <td>9055446045651783499.1640648526.1640648526</td>\n",
       "      <td>2.108385e+09</td>\n",
       "      <td>2021-12-28</td>\n",
       "      <td>02:42:06</td>\n",
       "      <td>1</td>\n",
       "      <td>ZpYIoDJMcFzVoPFsHGJL</td>\n",
       "      <td>banner</td>\n",
       "      <td>LEoPHuyFvzoNfnzGgfcd</td>\n",
       "      <td>vCIpmpaGBnIQhyYNkXqp</td>\n",
       "      <td>mobile</td>\n",
       "      <td>...</td>\n",
       "      <td>360x720</td>\n",
       "      <td>Chrome</td>\n",
       "      <td>Russia</td>\n",
       "      <td>Krasnoyarsk</td>\n",
       "      <td>2021-12-28</td>\n",
       "      <td>10</td>\n",
       "      <td>event</td>\n",
       "      <td>sberauto.com/cars?utm_source_initial=sbol&amp;utm_...</td>\n",
       "      <td>search_form</td>\n",
       "      <td>search_form_region</td>\n",
       "    </tr>\n",
       "    <tr>\n",
       "      <th>4</th>\n",
       "      <td>9055446045651783499.1640648526.1640648526</td>\n",
       "      <td>2.108385e+09</td>\n",
       "      <td>2021-12-28</td>\n",
       "      <td>02:42:06</td>\n",
       "      <td>1</td>\n",
       "      <td>ZpYIoDJMcFzVoPFsHGJL</td>\n",
       "      <td>banner</td>\n",
       "      <td>LEoPHuyFvzoNfnzGgfcd</td>\n",
       "      <td>vCIpmpaGBnIQhyYNkXqp</td>\n",
       "      <td>mobile</td>\n",
       "      <td>...</td>\n",
       "      <td>360x720</td>\n",
       "      <td>Chrome</td>\n",
       "      <td>Russia</td>\n",
       "      <td>Krasnoyarsk</td>\n",
       "      <td>2021-12-28</td>\n",
       "      <td>13</td>\n",
       "      <td>event</td>\n",
       "      <td>sberauto.com/cars?utm_source_initial=sbol&amp;utm_...</td>\n",
       "      <td>search_form</td>\n",
       "      <td>search_form_region</td>\n",
       "    </tr>\n",
       "  </tbody>\n",
       "</table>\n",
       "<p>5 rows × 21 columns</p>\n",
       "</div>"
      ],
      "text/plain": [
       "                                  session_id     client_id  visit_date  \\\n",
       "0  9055434745589932991.1637753792.1637753792  2.108383e+09  2021-11-24   \n",
       "1  9055434745589932991.1637753792.1637753792  2.108383e+09  2021-11-24   \n",
       "2   905544597018549464.1636867290.1636867290  2.108385e+08  2021-11-14   \n",
       "3  9055446045651783499.1640648526.1640648526  2.108385e+09  2021-12-28   \n",
       "4  9055446045651783499.1640648526.1640648526  2.108385e+09  2021-12-28   \n",
       "\n",
       "  visit_time  visit_number            utm_source utm_medium  \\\n",
       "0   14:36:32             1  ZpYIoDJMcFzVoPFsHGJL     banner   \n",
       "1   14:36:32             1  ZpYIoDJMcFzVoPFsHGJL     banner   \n",
       "2   08:21:30             1  MvfHsxITijuriZxsqZqt        cpm   \n",
       "3   02:42:06             1  ZpYIoDJMcFzVoPFsHGJL     banner   \n",
       "4   02:42:06             1  ZpYIoDJMcFzVoPFsHGJL     banner   \n",
       "\n",
       "           utm_campaign         utm_adcontent device_category  ...  \\\n",
       "0  LEoPHuyFvzoNfnzGgfcd  vCIpmpaGBnIQhyYNkXqp          mobile  ...   \n",
       "1  LEoPHuyFvzoNfnzGgfcd  vCIpmpaGBnIQhyYNkXqp          mobile  ...   \n",
       "2  FTjNLDyTrXaWYgZymFkV  xhoenQgDQsgfEPYNPwKO          mobile  ...   \n",
       "3  LEoPHuyFvzoNfnzGgfcd  vCIpmpaGBnIQhyYNkXqp          mobile  ...   \n",
       "4  LEoPHuyFvzoNfnzGgfcd  vCIpmpaGBnIQhyYNkXqp          mobile  ...   \n",
       "\n",
       "  device_screen_resolution    device_browser geo_country     geo_city  \\\n",
       "0                  360x720            Chrome      Russia     Zlatoust   \n",
       "1                  360x720            Chrome      Russia     Zlatoust   \n",
       "2                  385x854  Samsung Internet      Russia       Moscow   \n",
       "3                  360x720            Chrome      Russia  Krasnoyarsk   \n",
       "4                  360x720            Chrome      Russia  Krasnoyarsk   \n",
       "\n",
       "     hit_date hit_number  hit_type  \\\n",
       "0  2021-11-24          3     event   \n",
       "1  2021-11-24          4     event   \n",
       "2  2021-11-14          3     event   \n",
       "3  2021-12-28         10     event   \n",
       "4  2021-12-28         13     event   \n",
       "\n",
       "                                       hit_page_path    event_category  \\\n",
       "0                             podpiska.sberauto.com/     sub_page_view   \n",
       "1                             podpiska.sberauto.com/  sub_button_click   \n",
       "2                             podpiska.sberauto.com/     sub_page_view   \n",
       "3  sberauto.com/cars?utm_source_initial=sbol&utm_...       search_form   \n",
       "4  sberauto.com/cars?utm_source_initial=sbol&utm_...       search_form   \n",
       "\n",
       "          event_action  \n",
       "0          sub_landing  \n",
       "1  sub_view_cars_click  \n",
       "2          sub_landing  \n",
       "3   search_form_region  \n",
       "4   search_form_region  \n",
       "\n",
       "[5 rows x 21 columns]"
      ]
     },
     "execution_count": 16,
     "metadata": {},
     "output_type": "execute_result"
    }
   ],
   "source": [
    "df.head()"
   ]
  },
  {
   "cell_type": "code",
   "execution_count": 17,
   "id": "d87a63c1-c94c-4ad0-a571-f6e48a1d1b35",
   "metadata": {},
   "outputs": [
    {
     "name": "stderr",
     "output_type": "stream",
     "text": [
      "C:\\Users\\almaz\\AppData\\Local\\Temp\\ipykernel_17968\\2731582312.py:2: UserWarning: Could not infer format, so each element will be parsed individually, falling back to `dateutil`. To ensure parsing is consistent and as-expected, please specify a format.\n",
      "  df.visit_time = pd.to_datetime(df.visit_time)\n"
     ]
    }
   ],
   "source": [
    "df.visit_date = pd.to_datetime(df.visit_date)\n",
    "df.visit_time = pd.to_datetime(df.visit_time)"
   ]
  },
  {
   "cell_type": "code",
   "execution_count": 18,
   "id": "9d73533b-98e7-40ab-81dc-96647d02edda",
   "metadata": {},
   "outputs": [
    {
     "name": "stdout",
     "output_type": "stream",
     "text": [
      "<class 'pandas.core.frame.DataFrame'>\n",
      "RangeIndex: 15685219 entries, 0 to 15685218\n",
      "Data columns (total 21 columns):\n",
      " #   Column                    Dtype         \n",
      "---  ------                    -----         \n",
      " 0   session_id                object        \n",
      " 1   client_id                 float64       \n",
      " 2   visit_date                datetime64[ns]\n",
      " 3   visit_time                datetime64[ns]\n",
      " 4   visit_number              int64         \n",
      " 5   utm_source                object        \n",
      " 6   utm_medium                object        \n",
      " 7   utm_campaign              object        \n",
      " 8   utm_adcontent             object        \n",
      " 9   device_category           object        \n",
      " 10  device_brand              object        \n",
      " 11  device_screen_resolution  object        \n",
      " 12  device_browser            object        \n",
      " 13  geo_country               object        \n",
      " 14  geo_city                  object        \n",
      " 15  hit_date                  object        \n",
      " 16  hit_number                int64         \n",
      " 17  hit_type                  object        \n",
      " 18  hit_page_path             object        \n",
      " 19  event_category            object        \n",
      " 20  event_action              object        \n",
      "dtypes: datetime64[ns](2), float64(1), int64(2), object(16)\n",
      "memory usage: 2.5+ GB\n"
     ]
    }
   ],
   "source": [
    "df.info()"
   ]
  },
  {
   "cell_type": "code",
   "execution_count": 19,
   "id": "ff63f6a1-fd99-4dd4-ac2a-a09c6a48ce8d",
   "metadata": {},
   "outputs": [
    {
     "data": {
      "image/png": "[encoded data removed]",
      "text/plain": [
       "<Figure size 800x1500 with 1 Axes>"
      ]
     },
     "metadata": {},
     "output_type": "display_data"
    }
   ],
   "source": [
    "fig, ax = plt.subplots(figsize=(8,15))\n",
    "ax.hist(df.visit_number, color = 'orange')\n",
    "ax.set_xlabel('visit_number')\n",
    "ax.set_ylabel('count')\n",
    "ax.set_title('Распределение кол-ва посещений')\n",
    "\n",
    "ax.yaxis.set_major_formatter(FormatStrFormatter('%.0f'))"
   ]
  },
  {
   "cell_type": "code",
   "execution_count": 20,
   "id": "4852bf89-fc19-43e7-9f3a-105e74551d2f",
   "metadata": {},
   "outputs": [
    {
     "data": {
      "text/plain": [
       "<Axes: >"
      ]
     },
     "execution_count": 20,
     "metadata": {},
     "output_type": "execute_result"
    },
    {
     "data": {
      "image/png": "[encoded data removed]",
      "text/plain": [
       "<Figure size 640x480 with 1 Axes>"
      ]
     },
     "metadata": {},
     "output_type": "display_data"
    }
   ],
   "source": [
    "sns.boxplot(df.visit_number)"
   ]
  },
  {
   "cell_type": "code",
   "execution_count": 21,
   "id": "de02792a-f7dd-484c-afad-49f7c02d5aef",
   "metadata": {},
   "outputs": [
    {
     "data": {
      "text/plain": [
       "count    15685219\n",
       "mean            3\n",
       "std            13\n",
       "min             1\n",
       "25%             1\n",
       "50%             1\n",
       "75%             2\n",
       "max           564\n",
       "Name: visit_number, dtype: object"
      ]
     },
     "execution_count": 21,
     "metadata": {},
     "output_type": "execute_result"
    }
   ],
   "source": [
    "df.visit_number.describe().apply(FormatStrFormatter('%.0f'))"
   ]
  },
  {
   "cell_type": "code",
   "execution_count": 22,
   "id": "ce52cce9-50b6-4445-b9ec-6efd0ca6a615",
   "metadata": {},
   "outputs": [
    {
     "data": {
      "image/png": "[encoded data removed]",
      "text/plain": [
       "<Figure size 800x1500 with 1 Axes>"
      ]
     },
     "metadata": {},
     "output_type": "display_data"
    }
   ],
   "source": [
    "_, ax = plt.subplots(figsize=(8,15))\n",
    "ax.hist(df.hit_number, color = 'orange')\n",
    "ax.set_xlabel('hit_number')\n",
    "ax.set_ylabel('count')\n",
    "ax.set_title('Распределение кол-ва событий')\n",
    "\n",
    "ax.yaxis.set_major_formatter(FormatStrFormatter('%.0f'))"
   ]
  },
  {
   "cell_type": "code",
   "execution_count": 23,
   "id": "f41b4ea2-c100-4c6f-9c8b-614b31c747ef",
   "metadata": {},
   "outputs": [
    {
     "data": {
      "text/plain": [
       "<Axes: >"
      ]
     },
     "execution_count": 23,
     "metadata": {},
     "output_type": "execute_result"
    },
    {
     "data": {
      "image/png": "[encoded data removed]",
      "text/plain": [
       "<Figure size 640x480 with 1 Axes>"
      ]
     },
     "metadata": {},
     "output_type": "display_data"
    }
   ],
   "source": [
    "sns.boxplot(df.hit_number)"
   ]
  },
  {
   "cell_type": "code",
   "execution_count": 24,
   "id": "06bab5aa-f8ea-427a-9148-effb2708857e",
   "metadata": {},
   "outputs": [
    {
     "data": {
      "text/plain": [
       "count    15685219\n",
       "mean           23\n",
       "std            29\n",
       "min             1\n",
       "25%             7\n",
       "50%            15\n",
       "75%            29\n",
       "max           500\n",
       "Name: hit_number, dtype: object"
      ]
     },
     "execution_count": 24,
     "metadata": {},
     "output_type": "execute_result"
    }
   ],
   "source": [
    "df.hit_number.describe().apply(FormatStrFormatter('%.0f'))"
   ]
  },
  {
   "cell_type": "code",
   "execution_count": 52,
   "id": "340aeebf-510f-4525-8a1d-4190bf698f06",
   "metadata": {},
   "outputs": [],
   "source": [
    "stats = df.groupby([\"event_category\"], as_index=False).agg({\"session_id\": \"count\"}).rename(columns={\"session_id\": \"count\"})\n",
    "stats.sort_values('count', ascending=False, inplace=True)"
   ]
  },
  {
   "cell_type": "code",
   "execution_count": 60,
   "id": "f580935d-d964-4fc9-90bd-a4f7da48d70c",
   "metadata": {},
   "outputs": [
    {
     "data": {
      "image/png": "[encoded data removed]",
      "text/plain": [
       "<Figure size 800x1500 with 1 Axes>"
      ]
     },
     "metadata": {},
     "output_type": "display_data"
    }
   ],
   "source": [
    "_, ax = plt.subplots(figsize=(8,15))\n",
    "ax.bar(stats['event_category'].iloc[0:10], stats['count'].iloc[0:10], color = ['orange', 'green'])\n",
    "ax.set_xlabel('Категория действия')\n",
    "ax.set_ylabel('count')\n",
    "plt.xticks(rotation = 45)\n",
    "\n",
    "ax.yaxis.set_major_formatter(FormatStrFormatter('%.0f'))"
   ]
  },
  {
   "cell_type": "code",
   "execution_count": 61,
   "id": "36f83f0f-f400-44ba-9f32-065d31deac9d",
   "metadata": {},
   "outputs": [],
   "source": [
    "stats = df.groupby([\"geo_country\"], as_index=False).agg({\"session_id\": \"count\"}).rename(columns={\"session_id\": \"count\"})\n",
    "stats.sort_values('count', ascending=False, inplace=True)"
   ]
  },
  {
   "cell_type": "code",
   "execution_count": 72,
   "id": "f8ddb8e9-d98c-4250-b57e-a4f45a272d66",
   "metadata": {},
   "outputs": [
    {
     "data": {
      "image/png": "[encoded data removed]",
      "text/plain": [
       "<Figure size 1500x800 with 2 Axes>"
      ]
     },
     "metadata": {},
     "output_type": "display_data"
    }
   ],
   "source": [
    "_, (ax1, ax2) = plt.subplots(figsize=(15,8), ncols=2)\n",
    "ax1.bar(stats['geo_country'].iloc[0:10], stats['count'].iloc[0:10], color = ['purple', 'green'])\n",
    "ax1.set_xlabel('Страна')\n",
    "ax1.set_ylabel('count')\n",
    "plt.xticks(rotation = 45)\n",
    "\n",
    "ax2.bar(stats['geo_country'].iloc[1:11], stats['count'].iloc[1:11], color = ['green', 'purple'])\n",
    "ax2.set_xlabel('Страна')\n",
    "ax2.set_ylabel('count')\n",
    "\n",
    "ax1.yaxis.set_major_formatter(FormatStrFormatter('%.0f'))\n",
    "ax2.yaxis.set_major_formatter(FormatStrFormatter('%.0f'))"
   ]
  },
  {
   "cell_type": "code",
   "execution_count": 73,
   "id": "f69f4386-b1c7-4e0d-a660-8f2914041767",
   "metadata": {},
   "outputs": [],
   "source": [
    "stats = df.groupby([\"device_category\"], as_index=False).agg({\"session_id\": \"count\"}).rename(columns={\"session_id\": \"count\"})\n",
    "stats.sort_values('count', ascending=False, inplace=True)"
   ]
  },
  {
   "cell_type": "code",
   "execution_count": 79,
   "id": "e722d358-6a9d-4763-84f9-1066f44ede42",
   "metadata": {},
   "outputs": [
    {
     "data": {
      "image/png": "[encoded data removed]",
      "text/plain": [
       "<Figure size 400x400 with 1 Axes>"
      ]
     },
     "metadata": {},
     "output_type": "display_data"
    }
   ],
   "source": [
    "_, ax = plt.subplots(figsize=(4,4))\n",
    "ax.bar(stats['device_category'], stats['count'], color = ['darkblue', 'purple'])\n",
    "ax.set_xlabel('Категория устройства')\n",
    "ax.set_ylabel('count')\n",
    "plt.xticks(rotation = 45)\n",
    "\n",
    "ax.yaxis.set_major_formatter(FormatStrFormatter('%.0f'))"
   ]
  },
  {
   "cell_type": "code",
   "execution_count": 80,
   "id": "0d2da8c1-0813-486a-85ad-502a54ae5c51",
   "metadata": {},
   "outputs": [],
   "source": [
    "stats = df.groupby([\"utm_medium\"], as_index=False).agg({\"session_id\": \"count\"}).rename(columns={\"session_id\": \"count\"})\n",
    "stats.sort_values('count', ascending=False, inplace=True)"
   ]
  },
  {
   "cell_type": "code",
   "execution_count": 84,
   "id": "e09b2998-d638-4400-b4f1-510ee4cfb502",
   "metadata": {},
   "outputs": [
    {
     "data": {
      "image/png": "[encoded data removed]",
      "text/plain": [
       "<Figure size 400x400 with 1 Axes>"
      ]
     },
     "metadata": {},
     "output_type": "display_data"
    }
   ],
   "source": [
    "_, ax = plt.subplots(figsize=(4,4))\n",
    "ax.bar(stats['utm_medium'].iloc[:10], stats['count'].iloc[:10], color = ['yellowgreen', 'darkolivegreen'])\n",
    "ax.set_xlabel('Тип привлечения')\n",
    "ax.set_ylabel('count')\n",
    "plt.xticks(rotation = 45)\n",
    "\n",
    "ax.yaxis.set_major_formatter(FormatStrFormatter('%.0f'))"
   ]
  },
  {
   "cell_type": "code",
   "execution_count": 88,
   "id": "ab30f258-d6fe-4448-836c-42beec8dee8f",
   "metadata": {},
   "outputs": [],
   "source": [
    "stats = df.groupby([\"visit_date\"], as_index=False).agg({\"session_id\": \"count\"}).rename(columns={\"session_id\": \"count\"})\n"
   ]
  },
  {
   "cell_type": "code",
   "execution_count": 89,
   "id": "4e31b15a-fb9e-4bf2-8c32-520d2c12af34",
   "metadata": {},
   "outputs": [
    {
     "data": {
      "text/plain": [
       "[<matplotlib.lines.Line2D at 0x161fa18e790>]"
      ]
     },
     "execution_count": 89,
     "metadata": {},
     "output_type": "execute_result"
    },
    {
     "data": {
      "image/png": "[encoded data removed]",
      "text/plain": [
       "<Figure size 640x480 with 1 Axes>"
      ]
     },
     "metadata": {},
     "output_type": "display_data"
    }
   ],
   "source": [
    "plt.plot(stats[\"visit_date\"], stats[\"count\"])"
   ]
  },
  {
   "cell_type": "code",
   "execution_count": 87,
   "id": "7ff74ab7-c8c4-43b1-98f8-2a3840317c11",
   "metadata": {},
   "outputs": [],
   "source": [
    "df.to_csv('data/first_all.csv')"
   ]
  },
  {
   "cell_type": "markdown",
   "id": "3ad62525-f532-4d9a-9d22-3b1fc9386767",
   "metadata": {},
   "source": [
    "## Feature engenering"
   ]
  },
  {
   "cell_type": "code",
   "execution_count": 2,
   "id": "b35b0127-6be2-4fd4-ad65-fbaf9c9df2a4",
   "metadata": {
    "ExecuteTime": {
     "end_time": "2024-05-08T12:15:34.032117Z",
     "start_time": "2024-05-08T12:13:54.840146Z"
    }
   },
   "outputs": [
    {
     "data": {
      "text/html": [
       "<div>\n",
       "<style scoped>\n",
       "    .dataframe tbody tr th:only-of-type {\n",
       "        vertical-align: middle;\n",
       "    }\n",
       "\n",
       "    .dataframe tbody tr th {\n",
       "        vertical-align: top;\n",
       "    }\n",
       "\n",
       "    .dataframe thead th {\n",
       "        text-align: right;\n",
       "    }\n",
       "</style>\n",
       "<table border=\"1\" class=\"dataframe\">\n",
       "  <thead>\n",
       "    <tr style=\"text-align: right;\">\n",
       "      <th></th>\n",
       "      <th>Unnamed: 0</th>\n",
       "      <th>session_id</th>\n",
       "      <th>client_id</th>\n",
       "      <th>visit_date</th>\n",
       "      <th>visit_time</th>\n",
       "      <th>visit_number</th>\n",
       "      <th>utm_source</th>\n",
       "      <th>utm_medium</th>\n",
       "      <th>utm_campaign</th>\n",
       "      <th>utm_adcontent</th>\n",
       "      <th>...</th>\n",
       "      <th>device_screen_resolution</th>\n",
       "      <th>device_browser</th>\n",
       "      <th>geo_country</th>\n",
       "      <th>geo_city</th>\n",
       "      <th>hit_date</th>\n",
       "      <th>hit_number</th>\n",
       "      <th>hit_type</th>\n",
       "      <th>hit_page_path</th>\n",
       "      <th>event_category</th>\n",
       "      <th>event_action</th>\n",
       "    </tr>\n",
       "  </thead>\n",
       "  <tbody>\n",
       "    <tr>\n",
       "      <th>0</th>\n",
       "      <td>0</td>\n",
       "      <td>9055434745589932991.1637753792.1637753792</td>\n",
       "      <td>2.108383e+09</td>\n",
       "      <td>2021-11-24</td>\n",
       "      <td>2024-05-07 14:36:32</td>\n",
       "      <td>1</td>\n",
       "      <td>ZpYIoDJMcFzVoPFsHGJL</td>\n",
       "      <td>banner</td>\n",
       "      <td>LEoPHuyFvzoNfnzGgfcd</td>\n",
       "      <td>vCIpmpaGBnIQhyYNkXqp</td>\n",
       "      <td>...</td>\n",
       "      <td>360x720</td>\n",
       "      <td>Chrome</td>\n",
       "      <td>Russia</td>\n",
       "      <td>Zlatoust</td>\n",
       "      <td>2021-11-24</td>\n",
       "      <td>3</td>\n",
       "      <td>event</td>\n",
       "      <td>podpiska.sberauto.com/</td>\n",
       "      <td>sub_page_view</td>\n",
       "      <td>sub_landing</td>\n",
       "    </tr>\n",
       "    <tr>\n",
       "      <th>1</th>\n",
       "      <td>1</td>\n",
       "      <td>9055434745589932991.1637753792.1637753792</td>\n",
       "      <td>2.108383e+09</td>\n",
       "      <td>2021-11-24</td>\n",
       "      <td>2024-05-07 14:36:32</td>\n",
       "      <td>1</td>\n",
       "      <td>ZpYIoDJMcFzVoPFsHGJL</td>\n",
       "      <td>banner</td>\n",
       "      <td>LEoPHuyFvzoNfnzGgfcd</td>\n",
       "      <td>vCIpmpaGBnIQhyYNkXqp</td>\n",
       "      <td>...</td>\n",
       "      <td>360x720</td>\n",
       "      <td>Chrome</td>\n",
       "      <td>Russia</td>\n",
       "      <td>Zlatoust</td>\n",
       "      <td>2021-11-24</td>\n",
       "      <td>4</td>\n",
       "      <td>event</td>\n",
       "      <td>podpiska.sberauto.com/</td>\n",
       "      <td>sub_button_click</td>\n",
       "      <td>sub_view_cars_click</td>\n",
       "    </tr>\n",
       "    <tr>\n",
       "      <th>2</th>\n",
       "      <td>2</td>\n",
       "      <td>905544597018549464.1636867290.1636867290</td>\n",
       "      <td>2.108385e+08</td>\n",
       "      <td>2021-11-14</td>\n",
       "      <td>2024-05-07 08:21:30</td>\n",
       "      <td>1</td>\n",
       "      <td>MvfHsxITijuriZxsqZqt</td>\n",
       "      <td>cpm</td>\n",
       "      <td>FTjNLDyTrXaWYgZymFkV</td>\n",
       "      <td>xhoenQgDQsgfEPYNPwKO</td>\n",
       "      <td>...</td>\n",
       "      <td>385x854</td>\n",
       "      <td>Samsung Internet</td>\n",
       "      <td>Russia</td>\n",
       "      <td>Moscow</td>\n",
       "      <td>2021-11-14</td>\n",
       "      <td>3</td>\n",
       "      <td>event</td>\n",
       "      <td>podpiska.sberauto.com/</td>\n",
       "      <td>sub_page_view</td>\n",
       "      <td>sub_landing</td>\n",
       "    </tr>\n",
       "    <tr>\n",
       "      <th>3</th>\n",
       "      <td>3</td>\n",
       "      <td>9055446045651783499.1640648526.1640648526</td>\n",
       "      <td>2.108385e+09</td>\n",
       "      <td>2021-12-28</td>\n",
       "      <td>2024-05-07 02:42:06</td>\n",
       "      <td>1</td>\n",
       "      <td>ZpYIoDJMcFzVoPFsHGJL</td>\n",
       "      <td>banner</td>\n",
       "      <td>LEoPHuyFvzoNfnzGgfcd</td>\n",
       "      <td>vCIpmpaGBnIQhyYNkXqp</td>\n",
       "      <td>...</td>\n",
       "      <td>360x720</td>\n",
       "      <td>Chrome</td>\n",
       "      <td>Russia</td>\n",
       "      <td>Krasnoyarsk</td>\n",
       "      <td>2021-12-28</td>\n",
       "      <td>10</td>\n",
       "      <td>event</td>\n",
       "      <td>sberauto.com/cars?utm_source_initial=sbol&amp;utm_...</td>\n",
       "      <td>search_form</td>\n",
       "      <td>search_form_region</td>\n",
       "    </tr>\n",
       "    <tr>\n",
       "      <th>4</th>\n",
       "      <td>4</td>\n",
       "      <td>9055446045651783499.1640648526.1640648526</td>\n",
       "      <td>2.108385e+09</td>\n",
       "      <td>2021-12-28</td>\n",
       "      <td>2024-05-07 02:42:06</td>\n",
       "      <td>1</td>\n",
       "      <td>ZpYIoDJMcFzVoPFsHGJL</td>\n",
       "      <td>banner</td>\n",
       "      <td>LEoPHuyFvzoNfnzGgfcd</td>\n",
       "      <td>vCIpmpaGBnIQhyYNkXqp</td>\n",
       "      <td>...</td>\n",
       "      <td>360x720</td>\n",
       "      <td>Chrome</td>\n",
       "      <td>Russia</td>\n",
       "      <td>Krasnoyarsk</td>\n",
       "      <td>2021-12-28</td>\n",
       "      <td>13</td>\n",
       "      <td>event</td>\n",
       "      <td>sberauto.com/cars?utm_source_initial=sbol&amp;utm_...</td>\n",
       "      <td>search_form</td>\n",
       "      <td>search_form_region</td>\n",
       "    </tr>\n",
       "  </tbody>\n",
       "</table>\n",
       "<p>5 rows × 22 columns</p>\n",
       "</div>"
      ],
      "text/plain": [
       "   Unnamed: 0                                 session_id     client_id  \\\n",
       "0           0  9055434745589932991.1637753792.1637753792  2.108383e+09   \n",
       "1           1  9055434745589932991.1637753792.1637753792  2.108383e+09   \n",
       "2           2   905544597018549464.1636867290.1636867290  2.108385e+08   \n",
       "3           3  9055446045651783499.1640648526.1640648526  2.108385e+09   \n",
       "4           4  9055446045651783499.1640648526.1640648526  2.108385e+09   \n",
       "\n",
       "   visit_date           visit_time  visit_number            utm_source  \\\n",
       "0  2021-11-24  2024-05-07 14:36:32             1  ZpYIoDJMcFzVoPFsHGJL   \n",
       "1  2021-11-24  2024-05-07 14:36:32             1  ZpYIoDJMcFzVoPFsHGJL   \n",
       "2  2021-11-14  2024-05-07 08:21:30             1  MvfHsxITijuriZxsqZqt   \n",
       "3  2021-12-28  2024-05-07 02:42:06             1  ZpYIoDJMcFzVoPFsHGJL   \n",
       "4  2021-12-28  2024-05-07 02:42:06             1  ZpYIoDJMcFzVoPFsHGJL   \n",
       "\n",
       "  utm_medium          utm_campaign         utm_adcontent  ...  \\\n",
       "0     banner  LEoPHuyFvzoNfnzGgfcd  vCIpmpaGBnIQhyYNkXqp  ...   \n",
       "1     banner  LEoPHuyFvzoNfnzGgfcd  vCIpmpaGBnIQhyYNkXqp  ...   \n",
       "2        cpm  FTjNLDyTrXaWYgZymFkV  xhoenQgDQsgfEPYNPwKO  ...   \n",
       "3     banner  LEoPHuyFvzoNfnzGgfcd  vCIpmpaGBnIQhyYNkXqp  ...   \n",
       "4     banner  LEoPHuyFvzoNfnzGgfcd  vCIpmpaGBnIQhyYNkXqp  ...   \n",
       "\n",
       "  device_screen_resolution    device_browser geo_country     geo_city  \\\n",
       "0                  360x720            Chrome      Russia     Zlatoust   \n",
       "1                  360x720            Chrome      Russia     Zlatoust   \n",
       "2                  385x854  Samsung Internet      Russia       Moscow   \n",
       "3                  360x720            Chrome      Russia  Krasnoyarsk   \n",
       "4                  360x720            Chrome      Russia  Krasnoyarsk   \n",
       "\n",
       "     hit_date hit_number hit_type  \\\n",
       "0  2021-11-24          3    event   \n",
       "1  2021-11-24          4    event   \n",
       "2  2021-11-14          3    event   \n",
       "3  2021-12-28         10    event   \n",
       "4  2021-12-28         13    event   \n",
       "\n",
       "                                       hit_page_path    event_category  \\\n",
       "0                             podpiska.sberauto.com/     sub_page_view   \n",
       "1                             podpiska.sberauto.com/  sub_button_click   \n",
       "2                             podpiska.sberauto.com/     sub_page_view   \n",
       "3  sberauto.com/cars?utm_source_initial=sbol&utm_...       search_form   \n",
       "4  sberauto.com/cars?utm_source_initial=sbol&utm_...       search_form   \n",
       "\n",
       "          event_action  \n",
       "0          sub_landing  \n",
       "1  sub_view_cars_click  \n",
       "2          sub_landing  \n",
       "3   search_form_region  \n",
       "4   search_form_region  \n",
       "\n",
       "[5 rows x 22 columns]"
      ]
     },
     "execution_count": 2,
     "metadata": {},
     "output_type": "execute_result"
    }
   ],
   "source": [
    "df = pd.read_csv('data/first_all.csv')\n",
    "df.head()"
   ]
  },
  {
   "cell_type": "code",
   "execution_count": 3,
   "id": "0b5e2c48-c797-4f7c-8d2d-557d981ead4a",
   "metadata": {
    "ExecuteTime": {
     "end_time": "2024-05-08T12:15:36.627944Z",
     "start_time": "2024-05-08T12:15:34.036026Z"
    }
   },
   "outputs": [
    {
     "data": {
      "text/html": [
       "<div>\n",
       "<style scoped>\n",
       "    .dataframe tbody tr th:only-of-type {\n",
       "        vertical-align: middle;\n",
       "    }\n",
       "\n",
       "    .dataframe tbody tr th {\n",
       "        vertical-align: top;\n",
       "    }\n",
       "\n",
       "    .dataframe thead th {\n",
       "        text-align: right;\n",
       "    }\n",
       "</style>\n",
       "<table border=\"1\" class=\"dataframe\">\n",
       "  <thead>\n",
       "    <tr style=\"text-align: right;\">\n",
       "      <th></th>\n",
       "      <th>session_id</th>\n",
       "      <th>client_id</th>\n",
       "      <th>visit_date</th>\n",
       "      <th>visit_time</th>\n",
       "      <th>visit_number</th>\n",
       "      <th>utm_source</th>\n",
       "      <th>utm_medium</th>\n",
       "      <th>utm_campaign</th>\n",
       "      <th>utm_adcontent</th>\n",
       "      <th>device_category</th>\n",
       "      <th>...</th>\n",
       "      <th>device_screen_resolution</th>\n",
       "      <th>device_browser</th>\n",
       "      <th>geo_country</th>\n",
       "      <th>geo_city</th>\n",
       "      <th>hit_date</th>\n",
       "      <th>hit_number</th>\n",
       "      <th>hit_type</th>\n",
       "      <th>hit_page_path</th>\n",
       "      <th>event_category</th>\n",
       "      <th>event_action</th>\n",
       "    </tr>\n",
       "  </thead>\n",
       "  <tbody>\n",
       "    <tr>\n",
       "      <th>0</th>\n",
       "      <td>9055434745589932991.1637753792.1637753792</td>\n",
       "      <td>2.108383e+09</td>\n",
       "      <td>2021-11-24</td>\n",
       "      <td>2024-05-07 14:36:32</td>\n",
       "      <td>1</td>\n",
       "      <td>ZpYIoDJMcFzVoPFsHGJL</td>\n",
       "      <td>banner</td>\n",
       "      <td>LEoPHuyFvzoNfnzGgfcd</td>\n",
       "      <td>vCIpmpaGBnIQhyYNkXqp</td>\n",
       "      <td>mobile</td>\n",
       "      <td>...</td>\n",
       "      <td>360x720</td>\n",
       "      <td>Chrome</td>\n",
       "      <td>Russia</td>\n",
       "      <td>Zlatoust</td>\n",
       "      <td>2021-11-24</td>\n",
       "      <td>3</td>\n",
       "      <td>event</td>\n",
       "      <td>podpiska.sberauto.com/</td>\n",
       "      <td>sub_page_view</td>\n",
       "      <td>sub_landing</td>\n",
       "    </tr>\n",
       "    <tr>\n",
       "      <th>1</th>\n",
       "      <td>9055434745589932991.1637753792.1637753792</td>\n",
       "      <td>2.108383e+09</td>\n",
       "      <td>2021-11-24</td>\n",
       "      <td>2024-05-07 14:36:32</td>\n",
       "      <td>1</td>\n",
       "      <td>ZpYIoDJMcFzVoPFsHGJL</td>\n",
       "      <td>banner</td>\n",
       "      <td>LEoPHuyFvzoNfnzGgfcd</td>\n",
       "      <td>vCIpmpaGBnIQhyYNkXqp</td>\n",
       "      <td>mobile</td>\n",
       "      <td>...</td>\n",
       "      <td>360x720</td>\n",
       "      <td>Chrome</td>\n",
       "      <td>Russia</td>\n",
       "      <td>Zlatoust</td>\n",
       "      <td>2021-11-24</td>\n",
       "      <td>4</td>\n",
       "      <td>event</td>\n",
       "      <td>podpiska.sberauto.com/</td>\n",
       "      <td>sub_button_click</td>\n",
       "      <td>sub_view_cars_click</td>\n",
       "    </tr>\n",
       "    <tr>\n",
       "      <th>2</th>\n",
       "      <td>905544597018549464.1636867290.1636867290</td>\n",
       "      <td>2.108385e+08</td>\n",
       "      <td>2021-11-14</td>\n",
       "      <td>2024-05-07 08:21:30</td>\n",
       "      <td>1</td>\n",
       "      <td>MvfHsxITijuriZxsqZqt</td>\n",
       "      <td>cpm</td>\n",
       "      <td>FTjNLDyTrXaWYgZymFkV</td>\n",
       "      <td>xhoenQgDQsgfEPYNPwKO</td>\n",
       "      <td>mobile</td>\n",
       "      <td>...</td>\n",
       "      <td>385x854</td>\n",
       "      <td>Samsung Internet</td>\n",
       "      <td>Russia</td>\n",
       "      <td>Moscow</td>\n",
       "      <td>2021-11-14</td>\n",
       "      <td>3</td>\n",
       "      <td>event</td>\n",
       "      <td>podpiska.sberauto.com/</td>\n",
       "      <td>sub_page_view</td>\n",
       "      <td>sub_landing</td>\n",
       "    </tr>\n",
       "    <tr>\n",
       "      <th>3</th>\n",
       "      <td>9055446045651783499.1640648526.1640648526</td>\n",
       "      <td>2.108385e+09</td>\n",
       "      <td>2021-12-28</td>\n",
       "      <td>2024-05-07 02:42:06</td>\n",
       "      <td>1</td>\n",
       "      <td>ZpYIoDJMcFzVoPFsHGJL</td>\n",
       "      <td>banner</td>\n",
       "      <td>LEoPHuyFvzoNfnzGgfcd</td>\n",
       "      <td>vCIpmpaGBnIQhyYNkXqp</td>\n",
       "      <td>mobile</td>\n",
       "      <td>...</td>\n",
       "      <td>360x720</td>\n",
       "      <td>Chrome</td>\n",
       "      <td>Russia</td>\n",
       "      <td>Krasnoyarsk</td>\n",
       "      <td>2021-12-28</td>\n",
       "      <td>10</td>\n",
       "      <td>event</td>\n",
       "      <td>sberauto.com/cars?utm_source_initial=sbol&amp;utm_...</td>\n",
       "      <td>search_form</td>\n",
       "      <td>search_form_region</td>\n",
       "    </tr>\n",
       "    <tr>\n",
       "      <th>4</th>\n",
       "      <td>9055446045651783499.1640648526.1640648526</td>\n",
       "      <td>2.108385e+09</td>\n",
       "      <td>2021-12-28</td>\n",
       "      <td>2024-05-07 02:42:06</td>\n",
       "      <td>1</td>\n",
       "      <td>ZpYIoDJMcFzVoPFsHGJL</td>\n",
       "      <td>banner</td>\n",
       "      <td>LEoPHuyFvzoNfnzGgfcd</td>\n",
       "      <td>vCIpmpaGBnIQhyYNkXqp</td>\n",
       "      <td>mobile</td>\n",
       "      <td>...</td>\n",
       "      <td>360x720</td>\n",
       "      <td>Chrome</td>\n",
       "      <td>Russia</td>\n",
       "      <td>Krasnoyarsk</td>\n",
       "      <td>2021-12-28</td>\n",
       "      <td>13</td>\n",
       "      <td>event</td>\n",
       "      <td>sberauto.com/cars?utm_source_initial=sbol&amp;utm_...</td>\n",
       "      <td>search_form</td>\n",
       "      <td>search_form_region</td>\n",
       "    </tr>\n",
       "  </tbody>\n",
       "</table>\n",
       "<p>5 rows × 21 columns</p>\n",
       "</div>"
      ],
      "text/plain": [
       "                                  session_id     client_id  visit_date  \\\n",
       "0  9055434745589932991.1637753792.1637753792  2.108383e+09  2021-11-24   \n",
       "1  9055434745589932991.1637753792.1637753792  2.108383e+09  2021-11-24   \n",
       "2   905544597018549464.1636867290.1636867290  2.108385e+08  2021-11-14   \n",
       "3  9055446045651783499.1640648526.1640648526  2.108385e+09  2021-12-28   \n",
       "4  9055446045651783499.1640648526.1640648526  2.108385e+09  2021-12-28   \n",
       "\n",
       "            visit_time  visit_number            utm_source utm_medium  \\\n",
       "0  2024-05-07 14:36:32             1  ZpYIoDJMcFzVoPFsHGJL     banner   \n",
       "1  2024-05-07 14:36:32             1  ZpYIoDJMcFzVoPFsHGJL     banner   \n",
       "2  2024-05-07 08:21:30             1  MvfHsxITijuriZxsqZqt        cpm   \n",
       "3  2024-05-07 02:42:06             1  ZpYIoDJMcFzVoPFsHGJL     banner   \n",
       "4  2024-05-07 02:42:06             1  ZpYIoDJMcFzVoPFsHGJL     banner   \n",
       "\n",
       "           utm_campaign         utm_adcontent device_category  ...  \\\n",
       "0  LEoPHuyFvzoNfnzGgfcd  vCIpmpaGBnIQhyYNkXqp          mobile  ...   \n",
       "1  LEoPHuyFvzoNfnzGgfcd  vCIpmpaGBnIQhyYNkXqp          mobile  ...   \n",
       "2  FTjNLDyTrXaWYgZymFkV  xhoenQgDQsgfEPYNPwKO          mobile  ...   \n",
       "3  LEoPHuyFvzoNfnzGgfcd  vCIpmpaGBnIQhyYNkXqp          mobile  ...   \n",
       "4  LEoPHuyFvzoNfnzGgfcd  vCIpmpaGBnIQhyYNkXqp          mobile  ...   \n",
       "\n",
       "  device_screen_resolution    device_browser geo_country     geo_city  \\\n",
       "0                  360x720            Chrome      Russia     Zlatoust   \n",
       "1                  360x720            Chrome      Russia     Zlatoust   \n",
       "2                  385x854  Samsung Internet      Russia       Moscow   \n",
       "3                  360x720            Chrome      Russia  Krasnoyarsk   \n",
       "4                  360x720            Chrome      Russia  Krasnoyarsk   \n",
       "\n",
       "     hit_date hit_number  hit_type  \\\n",
       "0  2021-11-24          3     event   \n",
       "1  2021-11-24          4     event   \n",
       "2  2021-11-14          3     event   \n",
       "3  2021-12-28         10     event   \n",
       "4  2021-12-28         13     event   \n",
       "\n",
       "                                       hit_page_path    event_category  \\\n",
       "0                             podpiska.sberauto.com/     sub_page_view   \n",
       "1                             podpiska.sberauto.com/  sub_button_click   \n",
       "2                             podpiska.sberauto.com/     sub_page_view   \n",
       "3  sberauto.com/cars?utm_source_initial=sbol&utm_...       search_form   \n",
       "4  sberauto.com/cars?utm_source_initial=sbol&utm_...       search_form   \n",
       "\n",
       "          event_action  \n",
       "0          sub_landing  \n",
       "1  sub_view_cars_click  \n",
       "2          sub_landing  \n",
       "3   search_form_region  \n",
       "4   search_form_region  \n",
       "\n",
       "[5 rows x 21 columns]"
      ]
     },
     "execution_count": 3,
     "metadata": {},
     "output_type": "execute_result"
    }
   ],
   "source": [
    "df.drop('Unnamed: 0', axis = 1, inplace=True)\n",
    "df.head()"
   ]
  },
  {
   "cell_type": "code",
   "execution_count": 4,
   "id": "5646d872-3c89-4589-8035-9c596b0781eb",
   "metadata": {
    "ExecuteTime": {
     "end_time": "2024-05-08T12:16:10.861043Z",
     "start_time": "2024-05-08T12:15:36.629952Z"
    }
   },
   "outputs": [],
   "source": [
    "df.drop_duplicates(inplace=True)"
   ]
  },
  {
   "cell_type": "code",
   "execution_count": 5,
   "id": "9cfccf68-ce27-4185-b6a7-1aac82bbbc5f",
   "metadata": {
    "ExecuteTime": {
     "end_time": "2024-05-08T12:16:10.963779Z",
     "start_time": "2024-05-08T12:16:10.863050Z"
    }
   },
   "outputs": [
    {
     "name": "stdout",
     "output_type": "stream",
     "text": [
      "<class 'pandas.core.frame.DataFrame'>\n",
      "Index: 15459382 entries, 0 to 15685218\n",
      "Data columns (total 21 columns):\n",
      " #   Column                    Dtype  \n",
      "---  ------                    -----  \n",
      " 0   session_id                object \n",
      " 1   client_id                 float64\n",
      " 2   visit_date                object \n",
      " 3   visit_time                object \n",
      " 4   visit_number              int64  \n",
      " 5   utm_source                object \n",
      " 6   utm_medium                object \n",
      " 7   utm_campaign              object \n",
      " 8   utm_adcontent             object \n",
      " 9   device_category           object \n",
      " 10  device_brand              object \n",
      " 11  device_screen_resolution  object \n",
      " 12  device_browser            object \n",
      " 13  geo_country               object \n",
      " 14  geo_city                  object \n",
      " 15  hit_date                  object \n",
      " 16  hit_number                int64  \n",
      " 17  hit_type                  object \n",
      " 18  hit_page_path             object \n",
      " 19  event_category            object \n",
      " 20  event_action              object \n",
      "dtypes: float64(1), int64(2), object(18)\n",
      "memory usage: 2.5+ GB\n"
     ]
    }
   ],
   "source": [
    "df.info()"
   ]
  },
  {
   "cell_type": "code",
   "execution_count": 6,
   "id": "e0c09a11-3362-4094-98b0-621b6d77245e",
   "metadata": {
    "ExecuteTime": {
     "end_time": "2024-05-08T12:16:12.616215Z",
     "start_time": "2024-05-08T12:16:10.965787Z"
    }
   },
   "outputs": [
    {
     "data": {
      "text/html": [
       "<div>\n",
       "<style scoped>\n",
       "    .dataframe tbody tr th:only-of-type {\n",
       "        vertical-align: middle;\n",
       "    }\n",
       "\n",
       "    .dataframe tbody tr th {\n",
       "        vertical-align: top;\n",
       "    }\n",
       "\n",
       "    .dataframe thead th {\n",
       "        text-align: right;\n",
       "    }\n",
       "</style>\n",
       "<table border=\"1\" class=\"dataframe\">\n",
       "  <thead>\n",
       "    <tr style=\"text-align: right;\">\n",
       "      <th></th>\n",
       "      <th>visit_date</th>\n",
       "      <th>visit_time</th>\n",
       "      <th>visit_number</th>\n",
       "      <th>utm_medium</th>\n",
       "      <th>device_category</th>\n",
       "      <th>device_brand</th>\n",
       "      <th>device_browser</th>\n",
       "      <th>geo_country</th>\n",
       "      <th>event_action</th>\n",
       "    </tr>\n",
       "  </thead>\n",
       "  <tbody>\n",
       "    <tr>\n",
       "      <th>0</th>\n",
       "      <td>2021-11-24</td>\n",
       "      <td>2024-05-07 14:36:32</td>\n",
       "      <td>1</td>\n",
       "      <td>banner</td>\n",
       "      <td>mobile</td>\n",
       "      <td>Huawei</td>\n",
       "      <td>Chrome</td>\n",
       "      <td>Russia</td>\n",
       "      <td>sub_landing</td>\n",
       "    </tr>\n",
       "    <tr>\n",
       "      <th>1</th>\n",
       "      <td>2021-11-24</td>\n",
       "      <td>2024-05-07 14:36:32</td>\n",
       "      <td>1</td>\n",
       "      <td>banner</td>\n",
       "      <td>mobile</td>\n",
       "      <td>Huawei</td>\n",
       "      <td>Chrome</td>\n",
       "      <td>Russia</td>\n",
       "      <td>sub_view_cars_click</td>\n",
       "    </tr>\n",
       "    <tr>\n",
       "      <th>2</th>\n",
       "      <td>2021-11-14</td>\n",
       "      <td>2024-05-07 08:21:30</td>\n",
       "      <td>1</td>\n",
       "      <td>cpm</td>\n",
       "      <td>mobile</td>\n",
       "      <td>Samsung</td>\n",
       "      <td>Samsung Internet</td>\n",
       "      <td>Russia</td>\n",
       "      <td>sub_landing</td>\n",
       "    </tr>\n",
       "    <tr>\n",
       "      <th>3</th>\n",
       "      <td>2021-12-28</td>\n",
       "      <td>2024-05-07 02:42:06</td>\n",
       "      <td>1</td>\n",
       "      <td>banner</td>\n",
       "      <td>mobile</td>\n",
       "      <td>Huawei</td>\n",
       "      <td>Chrome</td>\n",
       "      <td>Russia</td>\n",
       "      <td>search_form_region</td>\n",
       "    </tr>\n",
       "    <tr>\n",
       "      <th>4</th>\n",
       "      <td>2021-12-28</td>\n",
       "      <td>2024-05-07 02:42:06</td>\n",
       "      <td>1</td>\n",
       "      <td>banner</td>\n",
       "      <td>mobile</td>\n",
       "      <td>Huawei</td>\n",
       "      <td>Chrome</td>\n",
       "      <td>Russia</td>\n",
       "      <td>search_form_region</td>\n",
       "    </tr>\n",
       "  </tbody>\n",
       "</table>\n",
       "</div>"
      ],
      "text/plain": [
       "   visit_date           visit_time  visit_number utm_medium device_category  \\\n",
       "0  2021-11-24  2024-05-07 14:36:32             1     banner          mobile   \n",
       "1  2021-11-24  2024-05-07 14:36:32             1     banner          mobile   \n",
       "2  2021-11-14  2024-05-07 08:21:30             1        cpm          mobile   \n",
       "3  2021-12-28  2024-05-07 02:42:06             1     banner          mobile   \n",
       "4  2021-12-28  2024-05-07 02:42:06             1     banner          mobile   \n",
       "\n",
       "  device_brand    device_browser geo_country         event_action  \n",
       "0       Huawei            Chrome      Russia          sub_landing  \n",
       "1       Huawei            Chrome      Russia  sub_view_cars_click  \n",
       "2      Samsung  Samsung Internet      Russia          sub_landing  \n",
       "3       Huawei            Chrome      Russia   search_form_region  \n",
       "4       Huawei            Chrome      Russia   search_form_region  "
      ]
     },
     "execution_count": 6,
     "metadata": {},
     "output_type": "execute_result"
    }
   ],
   "source": [
    "df.drop(['session_id', 'client_id', 'utm_source', 'utm_campaign', 'utm_adcontent',\n",
    "         'device_screen_resolution', 'geo_city', 'hit_date', 'hit_type', 'hit_number',\n",
    "         'hit_page_path', 'event_category'], axis=1, inplace=True)\n",
    "df.head()"
   ]
  },
  {
   "cell_type": "code",
   "execution_count": 7,
   "id": "b7dc4687-3224-40d8-a3c3-02455bdf5b4e",
   "metadata": {
    "ExecuteTime": {
     "end_time": "2024-05-08T12:16:12.623316Z",
     "start_time": "2024-05-08T12:16:12.617223Z"
    }
   },
   "outputs": [],
   "source": [
    "target_actions =  ['sub_car_claim_click', 'sub_car_claim_submit_click', 'sub_open_dialog_click', \n",
    "                         'sub_custom_question_submit_click', 'sub_call_number_click', 'sub_callback_submit_click',\n",
    "                         'sub_submit_success', 'sub_car_request_submit_click']\n"
   ]
  },
  {
   "cell_type": "code",
   "execution_count": 8,
   "id": "531b3cd2-93d8-42a1-bc63-f93ebf306952",
   "metadata": {
    "ExecuteTime": {
     "end_time": "2024-05-08T12:16:18.669089Z",
     "start_time": "2024-05-08T12:16:12.656325Z"
    }
   },
   "outputs": [
    {
     "data": {
      "text/html": [
       "<div>\n",
       "<style scoped>\n",
       "    .dataframe tbody tr th:only-of-type {\n",
       "        vertical-align: middle;\n",
       "    }\n",
       "\n",
       "    .dataframe tbody tr th {\n",
       "        vertical-align: top;\n",
       "    }\n",
       "\n",
       "    .dataframe thead th {\n",
       "        text-align: right;\n",
       "    }\n",
       "</style>\n",
       "<table border=\"1\" class=\"dataframe\">\n",
       "  <thead>\n",
       "    <tr style=\"text-align: right;\">\n",
       "      <th></th>\n",
       "      <th>visit_date</th>\n",
       "      <th>visit_time</th>\n",
       "      <th>visit_number</th>\n",
       "      <th>utm_medium</th>\n",
       "      <th>device_category</th>\n",
       "      <th>device_brand</th>\n",
       "      <th>device_browser</th>\n",
       "      <th>geo_country</th>\n",
       "      <th>event_action</th>\n",
       "      <th>is_target</th>\n",
       "    </tr>\n",
       "  </thead>\n",
       "  <tbody>\n",
       "    <tr>\n",
       "      <th>0</th>\n",
       "      <td>2021-11-24</td>\n",
       "      <td>2024-05-07 14:36:32</td>\n",
       "      <td>1</td>\n",
       "      <td>banner</td>\n",
       "      <td>mobile</td>\n",
       "      <td>Huawei</td>\n",
       "      <td>Chrome</td>\n",
       "      <td>Russia</td>\n",
       "      <td>sub_landing</td>\n",
       "      <td>0</td>\n",
       "    </tr>\n",
       "    <tr>\n",
       "      <th>1</th>\n",
       "      <td>2021-11-24</td>\n",
       "      <td>2024-05-07 14:36:32</td>\n",
       "      <td>1</td>\n",
       "      <td>banner</td>\n",
       "      <td>mobile</td>\n",
       "      <td>Huawei</td>\n",
       "      <td>Chrome</td>\n",
       "      <td>Russia</td>\n",
       "      <td>sub_view_cars_click</td>\n",
       "      <td>0</td>\n",
       "    </tr>\n",
       "    <tr>\n",
       "      <th>2</th>\n",
       "      <td>2021-11-14</td>\n",
       "      <td>2024-05-07 08:21:30</td>\n",
       "      <td>1</td>\n",
       "      <td>cpm</td>\n",
       "      <td>mobile</td>\n",
       "      <td>Samsung</td>\n",
       "      <td>Samsung Internet</td>\n",
       "      <td>Russia</td>\n",
       "      <td>sub_landing</td>\n",
       "      <td>0</td>\n",
       "    </tr>\n",
       "    <tr>\n",
       "      <th>3</th>\n",
       "      <td>2021-12-28</td>\n",
       "      <td>2024-05-07 02:42:06</td>\n",
       "      <td>1</td>\n",
       "      <td>banner</td>\n",
       "      <td>mobile</td>\n",
       "      <td>Huawei</td>\n",
       "      <td>Chrome</td>\n",
       "      <td>Russia</td>\n",
       "      <td>search_form_region</td>\n",
       "      <td>0</td>\n",
       "    </tr>\n",
       "    <tr>\n",
       "      <th>4</th>\n",
       "      <td>2021-12-28</td>\n",
       "      <td>2024-05-07 02:42:06</td>\n",
       "      <td>1</td>\n",
       "      <td>banner</td>\n",
       "      <td>mobile</td>\n",
       "      <td>Huawei</td>\n",
       "      <td>Chrome</td>\n",
       "      <td>Russia</td>\n",
       "      <td>search_form_region</td>\n",
       "      <td>0</td>\n",
       "    </tr>\n",
       "  </tbody>\n",
       "</table>\n",
       "</div>"
      ],
      "text/plain": [
       "   visit_date           visit_time  visit_number utm_medium device_category  \\\n",
       "0  2021-11-24  2024-05-07 14:36:32             1     banner          mobile   \n",
       "1  2021-11-24  2024-05-07 14:36:32             1     banner          mobile   \n",
       "2  2021-11-14  2024-05-07 08:21:30             1        cpm          mobile   \n",
       "3  2021-12-28  2024-05-07 02:42:06             1     banner          mobile   \n",
       "4  2021-12-28  2024-05-07 02:42:06             1     banner          mobile   \n",
       "\n",
       "  device_brand    device_browser geo_country         event_action  is_target  \n",
       "0       Huawei            Chrome      Russia          sub_landing          0  \n",
       "1       Huawei            Chrome      Russia  sub_view_cars_click          0  \n",
       "2      Samsung  Samsung Internet      Russia          sub_landing          0  \n",
       "3       Huawei            Chrome      Russia   search_form_region          0  \n",
       "4       Huawei            Chrome      Russia   search_form_region          0  "
      ]
     },
     "execution_count": 8,
     "metadata": {},
     "output_type": "execute_result"
    }
   ],
   "source": [
    "df['is_target'] = df['event_action'].apply(lambda act: 1 if act in target_actions else 0)\n",
    "df.head()"
   ]
  },
  {
   "cell_type": "code",
   "execution_count": 9,
   "id": "3248de14-3000-4a1d-af34-f72f934e9b48",
   "metadata": {
    "ExecuteTime": {
     "end_time": "2024-05-08T12:16:18.783252Z",
     "start_time": "2024-05-08T12:16:18.670095Z"
    }
   },
   "outputs": [
    {
     "data": {
      "text/html": [
       "<div>\n",
       "<style scoped>\n",
       "    .dataframe tbody tr th:only-of-type {\n",
       "        vertical-align: middle;\n",
       "    }\n",
       "\n",
       "    .dataframe tbody tr th {\n",
       "        vertical-align: top;\n",
       "    }\n",
       "\n",
       "    .dataframe thead th {\n",
       "        text-align: right;\n",
       "    }\n",
       "</style>\n",
       "<table border=\"1\" class=\"dataframe\">\n",
       "  <thead>\n",
       "    <tr style=\"text-align: right;\">\n",
       "      <th></th>\n",
       "      <th>visit_date</th>\n",
       "      <th>visit_time</th>\n",
       "      <th>visit_number</th>\n",
       "      <th>utm_medium</th>\n",
       "      <th>device_category</th>\n",
       "      <th>device_brand</th>\n",
       "      <th>device_browser</th>\n",
       "      <th>geo_country</th>\n",
       "      <th>event_action</th>\n",
       "      <th>is_target</th>\n",
       "    </tr>\n",
       "  </thead>\n",
       "  <tbody>\n",
       "    <tr>\n",
       "      <th>676</th>\n",
       "      <td>2021-06-14</td>\n",
       "      <td>2024-05-07 09:00:00</td>\n",
       "      <td>1</td>\n",
       "      <td>banner</td>\n",
       "      <td>mobile</td>\n",
       "      <td>Huawei</td>\n",
       "      <td>Chrome</td>\n",
       "      <td>Russia</td>\n",
       "      <td>sub_car_claim_click</td>\n",
       "      <td>1</td>\n",
       "    </tr>\n",
       "    <tr>\n",
       "      <th>710</th>\n",
       "      <td>2021-11-08</td>\n",
       "      <td>2024-05-07 21:10:07</td>\n",
       "      <td>1</td>\n",
       "      <td>banner</td>\n",
       "      <td>mobile</td>\n",
       "      <td>Apple</td>\n",
       "      <td>Safari</td>\n",
       "      <td>Russia</td>\n",
       "      <td>sub_submit_success</td>\n",
       "      <td>1</td>\n",
       "    </tr>\n",
       "    <tr>\n",
       "      <th>718</th>\n",
       "      <td>2021-11-08</td>\n",
       "      <td>2024-05-07 21:10:07</td>\n",
       "      <td>1</td>\n",
       "      <td>banner</td>\n",
       "      <td>mobile</td>\n",
       "      <td>Apple</td>\n",
       "      <td>Safari</td>\n",
       "      <td>Russia</td>\n",
       "      <td>sub_car_claim_submit_click</td>\n",
       "      <td>1</td>\n",
       "    </tr>\n",
       "    <tr>\n",
       "      <th>725</th>\n",
       "      <td>2021-11-08</td>\n",
       "      <td>2024-05-07 21:10:07</td>\n",
       "      <td>1</td>\n",
       "      <td>banner</td>\n",
       "      <td>mobile</td>\n",
       "      <td>Apple</td>\n",
       "      <td>Safari</td>\n",
       "      <td>Russia</td>\n",
       "      <td>sub_car_claim_click</td>\n",
       "      <td>1</td>\n",
       "    </tr>\n",
       "    <tr>\n",
       "      <th>775</th>\n",
       "      <td>2021-06-21</td>\n",
       "      <td>2024-05-07 22:00:00</td>\n",
       "      <td>1</td>\n",
       "      <td>cpc</td>\n",
       "      <td>desktop</td>\n",
       "      <td>other</td>\n",
       "      <td>Safari</td>\n",
       "      <td>Russia</td>\n",
       "      <td>sub_submit_success</td>\n",
       "      <td>1</td>\n",
       "    </tr>\n",
       "  </tbody>\n",
       "</table>\n",
       "</div>"
      ],
      "text/plain": [
       "     visit_date           visit_time  visit_number utm_medium device_category  \\\n",
       "676  2021-06-14  2024-05-07 09:00:00             1     banner          mobile   \n",
       "710  2021-11-08  2024-05-07 21:10:07             1     banner          mobile   \n",
       "718  2021-11-08  2024-05-07 21:10:07             1     banner          mobile   \n",
       "725  2021-11-08  2024-05-07 21:10:07             1     banner          mobile   \n",
       "775  2021-06-21  2024-05-07 22:00:00             1        cpc         desktop   \n",
       "\n",
       "    device_brand device_browser geo_country                event_action  \\\n",
       "676       Huawei         Chrome      Russia         sub_car_claim_click   \n",
       "710        Apple         Safari      Russia          sub_submit_success   \n",
       "718        Apple         Safari      Russia  sub_car_claim_submit_click   \n",
       "725        Apple         Safari      Russia         sub_car_claim_click   \n",
       "775        other         Safari      Russia          sub_submit_success   \n",
       "\n",
       "     is_target  \n",
       "676          1  \n",
       "710          1  \n",
       "718          1  \n",
       "725          1  \n",
       "775          1  "
      ]
     },
     "execution_count": 9,
     "metadata": {},
     "output_type": "execute_result"
    }
   ],
   "source": [
    "df[df['is_target'] == 1].head()"
   ]
  },
  {
   "cell_type": "code",
   "execution_count": 10,
   "id": "4b927ae5-2d98-4886-bd87-6a81413d76fa",
   "metadata": {
    "ExecuteTime": {
     "end_time": "2024-05-08T12:16:19.714946Z",
     "start_time": "2024-05-08T12:16:18.784166Z"
    }
   },
   "outputs": [
    {
     "data": {
      "text/html": [
       "<div>\n",
       "<style scoped>\n",
       "    .dataframe tbody tr th:only-of-type {\n",
       "        vertical-align: middle;\n",
       "    }\n",
       "\n",
       "    .dataframe tbody tr th {\n",
       "        vertical-align: top;\n",
       "    }\n",
       "\n",
       "    .dataframe thead th {\n",
       "        text-align: right;\n",
       "    }\n",
       "</style>\n",
       "<table border=\"1\" class=\"dataframe\">\n",
       "  <thead>\n",
       "    <tr style=\"text-align: right;\">\n",
       "      <th></th>\n",
       "      <th>visit_date</th>\n",
       "      <th>visit_time</th>\n",
       "      <th>visit_number</th>\n",
       "      <th>utm_medium</th>\n",
       "      <th>device_category</th>\n",
       "      <th>device_brand</th>\n",
       "      <th>device_browser</th>\n",
       "      <th>geo_country</th>\n",
       "      <th>is_target</th>\n",
       "    </tr>\n",
       "  </thead>\n",
       "  <tbody>\n",
       "    <tr>\n",
       "      <th>0</th>\n",
       "      <td>2021-11-24</td>\n",
       "      <td>2024-05-07 14:36:32</td>\n",
       "      <td>1</td>\n",
       "      <td>banner</td>\n",
       "      <td>mobile</td>\n",
       "      <td>Huawei</td>\n",
       "      <td>Chrome</td>\n",
       "      <td>Russia</td>\n",
       "      <td>0</td>\n",
       "    </tr>\n",
       "    <tr>\n",
       "      <th>1</th>\n",
       "      <td>2021-11-24</td>\n",
       "      <td>2024-05-07 14:36:32</td>\n",
       "      <td>1</td>\n",
       "      <td>banner</td>\n",
       "      <td>mobile</td>\n",
       "      <td>Huawei</td>\n",
       "      <td>Chrome</td>\n",
       "      <td>Russia</td>\n",
       "      <td>0</td>\n",
       "    </tr>\n",
       "    <tr>\n",
       "      <th>2</th>\n",
       "      <td>2021-11-14</td>\n",
       "      <td>2024-05-07 08:21:30</td>\n",
       "      <td>1</td>\n",
       "      <td>cpm</td>\n",
       "      <td>mobile</td>\n",
       "      <td>Samsung</td>\n",
       "      <td>Samsung Internet</td>\n",
       "      <td>Russia</td>\n",
       "      <td>0</td>\n",
       "    </tr>\n",
       "    <tr>\n",
       "      <th>3</th>\n",
       "      <td>2021-12-28</td>\n",
       "      <td>2024-05-07 02:42:06</td>\n",
       "      <td>1</td>\n",
       "      <td>banner</td>\n",
       "      <td>mobile</td>\n",
       "      <td>Huawei</td>\n",
       "      <td>Chrome</td>\n",
       "      <td>Russia</td>\n",
       "      <td>0</td>\n",
       "    </tr>\n",
       "    <tr>\n",
       "      <th>4</th>\n",
       "      <td>2021-12-28</td>\n",
       "      <td>2024-05-07 02:42:06</td>\n",
       "      <td>1</td>\n",
       "      <td>banner</td>\n",
       "      <td>mobile</td>\n",
       "      <td>Huawei</td>\n",
       "      <td>Chrome</td>\n",
       "      <td>Russia</td>\n",
       "      <td>0</td>\n",
       "    </tr>\n",
       "  </tbody>\n",
       "</table>\n",
       "</div>"
      ],
      "text/plain": [
       "   visit_date           visit_time  visit_number utm_medium device_category  \\\n",
       "0  2021-11-24  2024-05-07 14:36:32             1     banner          mobile   \n",
       "1  2021-11-24  2024-05-07 14:36:32             1     banner          mobile   \n",
       "2  2021-11-14  2024-05-07 08:21:30             1        cpm          mobile   \n",
       "3  2021-12-28  2024-05-07 02:42:06             1     banner          mobile   \n",
       "4  2021-12-28  2024-05-07 02:42:06             1     banner          mobile   \n",
       "\n",
       "  device_brand    device_browser geo_country  is_target  \n",
       "0       Huawei            Chrome      Russia          0  \n",
       "1       Huawei            Chrome      Russia          0  \n",
       "2      Samsung  Samsung Internet      Russia          0  \n",
       "3       Huawei            Chrome      Russia          0  \n",
       "4       Huawei            Chrome      Russia          0  "
      ]
     },
     "execution_count": 10,
     "metadata": {},
     "output_type": "execute_result"
    }
   ],
   "source": [
    "df.drop('event_action', axis=1, inplace=True)\n",
    "df.head()"
   ]
  },
  {
   "cell_type": "code",
   "execution_count": 11,
   "id": "782083ee-41b7-467e-93e8-c81f1150d611",
   "metadata": {
    "ExecuteTime": {
     "end_time": "2024-05-08T12:16:19.732342Z",
     "start_time": "2024-05-08T12:16:19.718957Z"
    }
   },
   "outputs": [
    {
     "name": "stdout",
     "output_type": "stream",
     "text": [
      "<class 'pandas.core.frame.DataFrame'>\n",
      "Index: 15459382 entries, 0 to 15685218\n",
      "Data columns (total 9 columns):\n",
      " #   Column           Dtype \n",
      "---  ------           ----- \n",
      " 0   visit_date       object\n",
      " 1   visit_time       object\n",
      " 2   visit_number     int64 \n",
      " 3   utm_medium       object\n",
      " 4   device_category  object\n",
      " 5   device_brand     object\n",
      " 6   device_browser   object\n",
      " 7   geo_country      object\n",
      " 8   is_target        int64 \n",
      "dtypes: int64(2), object(7)\n",
      "memory usage: 1.2+ GB\n"
     ]
    }
   ],
   "source": [
    "df.info()"
   ]
  },
  {
   "cell_type": "code",
   "execution_count": 12,
   "id": "37417ab3-2e03-4878-bd69-d06b634f7322",
   "metadata": {
    "ExecuteTime": {
     "end_time": "2024-05-08T12:16:22.269312Z",
     "start_time": "2024-05-08T12:16:19.734352Z"
    }
   },
   "outputs": [
    {
     "name": "stdout",
     "output_type": "stream",
     "text": [
      "<class 'pandas.core.frame.DataFrame'>\n",
      "Index: 15459382 entries, 0 to 15685218\n",
      "Data columns (total 9 columns):\n",
      " #   Column           Dtype         \n",
      "---  ------           -----         \n",
      " 0   visit_date       object        \n",
      " 1   visit_time       datetime64[ns]\n",
      " 2   visit_number     int64         \n",
      " 3   utm_medium       object        \n",
      " 4   device_category  object        \n",
      " 5   device_brand     object        \n",
      " 6   device_browser   object        \n",
      " 7   geo_country      object        \n",
      " 8   is_target        int64         \n",
      "dtypes: datetime64[ns](1), int64(2), object(6)\n",
      "memory usage: 1.2+ GB\n"
     ]
    }
   ],
   "source": [
    "df.visit_time = pd.to_datetime(df.visit_time)\n",
    "df.info()"
   ]
  },
  {
   "cell_type": "code",
   "execution_count": 13,
   "id": "68175bad-e0d2-4c33-990e-1307137eed75",
   "metadata": {
    "ExecuteTime": {
     "end_time": "2024-05-08T12:16:23.183821Z",
     "start_time": "2024-05-08T12:16:22.270318Z"
    }
   },
   "outputs": [
    {
     "data": {
      "text/html": [
       "<div>\n",
       "<style scoped>\n",
       "    .dataframe tbody tr th:only-of-type {\n",
       "        vertical-align: middle;\n",
       "    }\n",
       "\n",
       "    .dataframe tbody tr th {\n",
       "        vertical-align: top;\n",
       "    }\n",
       "\n",
       "    .dataframe thead th {\n",
       "        text-align: right;\n",
       "    }\n",
       "</style>\n",
       "<table border=\"1\" class=\"dataframe\">\n",
       "  <thead>\n",
       "    <tr style=\"text-align: right;\">\n",
       "      <th></th>\n",
       "      <th>visit_date</th>\n",
       "      <th>visit_time</th>\n",
       "      <th>visit_number</th>\n",
       "      <th>utm_medium</th>\n",
       "      <th>device_category</th>\n",
       "      <th>device_brand</th>\n",
       "      <th>device_browser</th>\n",
       "      <th>geo_country</th>\n",
       "      <th>is_target</th>\n",
       "      <th>visit_hour</th>\n",
       "    </tr>\n",
       "  </thead>\n",
       "  <tbody>\n",
       "    <tr>\n",
       "      <th>0</th>\n",
       "      <td>2021-11-24</td>\n",
       "      <td>2024-05-07 14:36:32</td>\n",
       "      <td>1</td>\n",
       "      <td>banner</td>\n",
       "      <td>mobile</td>\n",
       "      <td>Huawei</td>\n",
       "      <td>Chrome</td>\n",
       "      <td>Russia</td>\n",
       "      <td>0</td>\n",
       "      <td>14</td>\n",
       "    </tr>\n",
       "    <tr>\n",
       "      <th>1</th>\n",
       "      <td>2021-11-24</td>\n",
       "      <td>2024-05-07 14:36:32</td>\n",
       "      <td>1</td>\n",
       "      <td>banner</td>\n",
       "      <td>mobile</td>\n",
       "      <td>Huawei</td>\n",
       "      <td>Chrome</td>\n",
       "      <td>Russia</td>\n",
       "      <td>0</td>\n",
       "      <td>14</td>\n",
       "    </tr>\n",
       "    <tr>\n",
       "      <th>2</th>\n",
       "      <td>2021-11-14</td>\n",
       "      <td>2024-05-07 08:21:30</td>\n",
       "      <td>1</td>\n",
       "      <td>cpm</td>\n",
       "      <td>mobile</td>\n",
       "      <td>Samsung</td>\n",
       "      <td>Samsung Internet</td>\n",
       "      <td>Russia</td>\n",
       "      <td>0</td>\n",
       "      <td>8</td>\n",
       "    </tr>\n",
       "    <tr>\n",
       "      <th>3</th>\n",
       "      <td>2021-12-28</td>\n",
       "      <td>2024-05-07 02:42:06</td>\n",
       "      <td>1</td>\n",
       "      <td>banner</td>\n",
       "      <td>mobile</td>\n",
       "      <td>Huawei</td>\n",
       "      <td>Chrome</td>\n",
       "      <td>Russia</td>\n",
       "      <td>0</td>\n",
       "      <td>2</td>\n",
       "    </tr>\n",
       "    <tr>\n",
       "      <th>4</th>\n",
       "      <td>2021-12-28</td>\n",
       "      <td>2024-05-07 02:42:06</td>\n",
       "      <td>1</td>\n",
       "      <td>banner</td>\n",
       "      <td>mobile</td>\n",
       "      <td>Huawei</td>\n",
       "      <td>Chrome</td>\n",
       "      <td>Russia</td>\n",
       "      <td>0</td>\n",
       "      <td>2</td>\n",
       "    </tr>\n",
       "  </tbody>\n",
       "</table>\n",
       "</div>"
      ],
      "text/plain": [
       "   visit_date          visit_time  visit_number utm_medium device_category  \\\n",
       "0  2021-11-24 2024-05-07 14:36:32             1     banner          mobile   \n",
       "1  2021-11-24 2024-05-07 14:36:32             1     banner          mobile   \n",
       "2  2021-11-14 2024-05-07 08:21:30             1        cpm          mobile   \n",
       "3  2021-12-28 2024-05-07 02:42:06             1     banner          mobile   \n",
       "4  2021-12-28 2024-05-07 02:42:06             1     banner          mobile   \n",
       "\n",
       "  device_brand    device_browser geo_country  is_target  visit_hour  \n",
       "0       Huawei            Chrome      Russia          0          14  \n",
       "1       Huawei            Chrome      Russia          0          14  \n",
       "2      Samsung  Samsung Internet      Russia          0           8  \n",
       "3       Huawei            Chrome      Russia          0           2  \n",
       "4       Huawei            Chrome      Russia          0           2  "
      ]
     },
     "execution_count": 13,
     "metadata": {},
     "output_type": "execute_result"
    }
   ],
   "source": [
    "df['visit_hour'] = df['visit_time'].dt.hour\n",
    "df.head()"
   ]
  },
  {
   "cell_type": "code",
   "execution_count": 14,
   "id": "32b4b802-9a58-4acb-bd9a-6048e5a2f5e8",
   "metadata": {
    "ExecuteTime": {
     "end_time": "2024-05-08T12:16:25.036949Z",
     "start_time": "2024-05-08T12:16:23.185831Z"
    }
   },
   "outputs": [
    {
     "name": "stdout",
     "output_type": "stream",
     "text": [
      "<class 'pandas.core.frame.DataFrame'>\n",
      "Index: 15459382 entries, 0 to 15685218\n",
      "Data columns (total 10 columns):\n",
      " #   Column           Dtype         \n",
      "---  ------           -----         \n",
      " 0   visit_date       datetime64[ns]\n",
      " 1   visit_time       datetime64[ns]\n",
      " 2   visit_number     int64         \n",
      " 3   utm_medium       object        \n",
      " 4   device_category  object        \n",
      " 5   device_brand     object        \n",
      " 6   device_browser   object        \n",
      " 7   geo_country      object        \n",
      " 8   is_target        int64         \n",
      " 9   visit_hour       int32         \n",
      "dtypes: datetime64[ns](2), int32(1), int64(2), object(5)\n",
      "memory usage: 1.2+ GB\n"
     ]
    }
   ],
   "source": [
    "df.visit_date = pd.to_datetime(df.visit_date)\n",
    "df.info()"
   ]
  },
  {
   "cell_type": "code",
   "execution_count": 15,
   "id": "ee76defc-4736-4b52-ab2a-9c766829b6a5",
   "metadata": {
    "ExecuteTime": {
     "end_time": "2024-05-08T12:16:27.033398Z",
     "start_time": "2024-05-08T12:16:25.037956Z"
    }
   },
   "outputs": [
    {
     "data": {
      "text/html": [
       "<div>\n",
       "<style scoped>\n",
       "    .dataframe tbody tr th:only-of-type {\n",
       "        vertical-align: middle;\n",
       "    }\n",
       "\n",
       "    .dataframe tbody tr th {\n",
       "        vertical-align: top;\n",
       "    }\n",
       "\n",
       "    .dataframe thead th {\n",
       "        text-align: right;\n",
       "    }\n",
       "</style>\n",
       "<table border=\"1\" class=\"dataframe\">\n",
       "  <thead>\n",
       "    <tr style=\"text-align: right;\">\n",
       "      <th></th>\n",
       "      <th>visit_date</th>\n",
       "      <th>visit_time</th>\n",
       "      <th>visit_number</th>\n",
       "      <th>utm_medium</th>\n",
       "      <th>device_category</th>\n",
       "      <th>device_brand</th>\n",
       "      <th>device_browser</th>\n",
       "      <th>geo_country</th>\n",
       "      <th>is_target</th>\n",
       "      <th>visit_hour</th>\n",
       "      <th>visit_day_of_week</th>\n",
       "      <th>visit_month</th>\n",
       "    </tr>\n",
       "  </thead>\n",
       "  <tbody>\n",
       "    <tr>\n",
       "      <th>0</th>\n",
       "      <td>2021-11-24</td>\n",
       "      <td>2024-05-07 14:36:32</td>\n",
       "      <td>1</td>\n",
       "      <td>banner</td>\n",
       "      <td>mobile</td>\n",
       "      <td>Huawei</td>\n",
       "      <td>Chrome</td>\n",
       "      <td>Russia</td>\n",
       "      <td>0</td>\n",
       "      <td>14</td>\n",
       "      <td>2</td>\n",
       "      <td>11</td>\n",
       "    </tr>\n",
       "    <tr>\n",
       "      <th>1</th>\n",
       "      <td>2021-11-24</td>\n",
       "      <td>2024-05-07 14:36:32</td>\n",
       "      <td>1</td>\n",
       "      <td>banner</td>\n",
       "      <td>mobile</td>\n",
       "      <td>Huawei</td>\n",
       "      <td>Chrome</td>\n",
       "      <td>Russia</td>\n",
       "      <td>0</td>\n",
       "      <td>14</td>\n",
       "      <td>2</td>\n",
       "      <td>11</td>\n",
       "    </tr>\n",
       "    <tr>\n",
       "      <th>2</th>\n",
       "      <td>2021-11-14</td>\n",
       "      <td>2024-05-07 08:21:30</td>\n",
       "      <td>1</td>\n",
       "      <td>cpm</td>\n",
       "      <td>mobile</td>\n",
       "      <td>Samsung</td>\n",
       "      <td>Samsung Internet</td>\n",
       "      <td>Russia</td>\n",
       "      <td>0</td>\n",
       "      <td>8</td>\n",
       "      <td>6</td>\n",
       "      <td>11</td>\n",
       "    </tr>\n",
       "    <tr>\n",
       "      <th>3</th>\n",
       "      <td>2021-12-28</td>\n",
       "      <td>2024-05-07 02:42:06</td>\n",
       "      <td>1</td>\n",
       "      <td>banner</td>\n",
       "      <td>mobile</td>\n",
       "      <td>Huawei</td>\n",
       "      <td>Chrome</td>\n",
       "      <td>Russia</td>\n",
       "      <td>0</td>\n",
       "      <td>2</td>\n",
       "      <td>1</td>\n",
       "      <td>12</td>\n",
       "    </tr>\n",
       "    <tr>\n",
       "      <th>4</th>\n",
       "      <td>2021-12-28</td>\n",
       "      <td>2024-05-07 02:42:06</td>\n",
       "      <td>1</td>\n",
       "      <td>banner</td>\n",
       "      <td>mobile</td>\n",
       "      <td>Huawei</td>\n",
       "      <td>Chrome</td>\n",
       "      <td>Russia</td>\n",
       "      <td>0</td>\n",
       "      <td>2</td>\n",
       "      <td>1</td>\n",
       "      <td>12</td>\n",
       "    </tr>\n",
       "  </tbody>\n",
       "</table>\n",
       "</div>"
      ],
      "text/plain": [
       "  visit_date          visit_time  visit_number utm_medium device_category  \\\n",
       "0 2021-11-24 2024-05-07 14:36:32             1     banner          mobile   \n",
       "1 2021-11-24 2024-05-07 14:36:32             1     banner          mobile   \n",
       "2 2021-11-14 2024-05-07 08:21:30             1        cpm          mobile   \n",
       "3 2021-12-28 2024-05-07 02:42:06             1     banner          mobile   \n",
       "4 2021-12-28 2024-05-07 02:42:06             1     banner          mobile   \n",
       "\n",
       "  device_brand    device_browser geo_country  is_target  visit_hour  \\\n",
       "0       Huawei            Chrome      Russia          0          14   \n",
       "1       Huawei            Chrome      Russia          0          14   \n",
       "2      Samsung  Samsung Internet      Russia          0           8   \n",
       "3       Huawei            Chrome      Russia          0           2   \n",
       "4       Huawei            Chrome      Russia          0           2   \n",
       "\n",
       "   visit_day_of_week  visit_month  \n",
       "0                  2           11  \n",
       "1                  2           11  \n",
       "2                  6           11  \n",
       "3                  1           12  \n",
       "4                  1           12  "
      ]
     },
     "execution_count": 15,
     "metadata": {},
     "output_type": "execute_result"
    }
   ],
   "source": [
    "df['visit_day_of_week'] = df.visit_date.dt.dayofweek\n",
    "df['visit_month'] = df.visit_date.dt.month\n",
    "df.head()"
   ]
  },
  {
   "cell_type": "code",
   "execution_count": 16,
   "id": "11f25508-5813-4c52-90d9-9d4be729ea16",
   "metadata": {
    "ExecuteTime": {
     "end_time": "2024-05-08T12:16:28.088161Z",
     "start_time": "2024-05-08T12:16:27.036406Z"
    }
   },
   "outputs": [
    {
     "data": {
      "text/html": [
       "<div>\n",
       "<style scoped>\n",
       "    .dataframe tbody tr th:only-of-type {\n",
       "        vertical-align: middle;\n",
       "    }\n",
       "\n",
       "    .dataframe tbody tr th {\n",
       "        vertical-align: top;\n",
       "    }\n",
       "\n",
       "    .dataframe thead th {\n",
       "        text-align: right;\n",
       "    }\n",
       "</style>\n",
       "<table border=\"1\" class=\"dataframe\">\n",
       "  <thead>\n",
       "    <tr style=\"text-align: right;\">\n",
       "      <th></th>\n",
       "      <th>visit_number</th>\n",
       "      <th>utm_medium</th>\n",
       "      <th>device_category</th>\n",
       "      <th>device_brand</th>\n",
       "      <th>device_browser</th>\n",
       "      <th>geo_country</th>\n",
       "      <th>is_target</th>\n",
       "      <th>visit_hour</th>\n",
       "      <th>visit_day_of_week</th>\n",
       "      <th>visit_month</th>\n",
       "    </tr>\n",
       "  </thead>\n",
       "  <tbody>\n",
       "    <tr>\n",
       "      <th>0</th>\n",
       "      <td>1</td>\n",
       "      <td>banner</td>\n",
       "      <td>mobile</td>\n",
       "      <td>Huawei</td>\n",
       "      <td>Chrome</td>\n",
       "      <td>Russia</td>\n",
       "      <td>0</td>\n",
       "      <td>14</td>\n",
       "      <td>2</td>\n",
       "      <td>11</td>\n",
       "    </tr>\n",
       "    <tr>\n",
       "      <th>1</th>\n",
       "      <td>1</td>\n",
       "      <td>banner</td>\n",
       "      <td>mobile</td>\n",
       "      <td>Huawei</td>\n",
       "      <td>Chrome</td>\n",
       "      <td>Russia</td>\n",
       "      <td>0</td>\n",
       "      <td>14</td>\n",
       "      <td>2</td>\n",
       "      <td>11</td>\n",
       "    </tr>\n",
       "    <tr>\n",
       "      <th>2</th>\n",
       "      <td>1</td>\n",
       "      <td>cpm</td>\n",
       "      <td>mobile</td>\n",
       "      <td>Samsung</td>\n",
       "      <td>Samsung Internet</td>\n",
       "      <td>Russia</td>\n",
       "      <td>0</td>\n",
       "      <td>8</td>\n",
       "      <td>6</td>\n",
       "      <td>11</td>\n",
       "    </tr>\n",
       "    <tr>\n",
       "      <th>3</th>\n",
       "      <td>1</td>\n",
       "      <td>banner</td>\n",
       "      <td>mobile</td>\n",
       "      <td>Huawei</td>\n",
       "      <td>Chrome</td>\n",
       "      <td>Russia</td>\n",
       "      <td>0</td>\n",
       "      <td>2</td>\n",
       "      <td>1</td>\n",
       "      <td>12</td>\n",
       "    </tr>\n",
       "    <tr>\n",
       "      <th>4</th>\n",
       "      <td>1</td>\n",
       "      <td>banner</td>\n",
       "      <td>mobile</td>\n",
       "      <td>Huawei</td>\n",
       "      <td>Chrome</td>\n",
       "      <td>Russia</td>\n",
       "      <td>0</td>\n",
       "      <td>2</td>\n",
       "      <td>1</td>\n",
       "      <td>12</td>\n",
       "    </tr>\n",
       "  </tbody>\n",
       "</table>\n",
       "</div>"
      ],
      "text/plain": [
       "   visit_number utm_medium device_category device_brand    device_browser  \\\n",
       "0             1     banner          mobile       Huawei            Chrome   \n",
       "1             1     banner          mobile       Huawei            Chrome   \n",
       "2             1        cpm          mobile      Samsung  Samsung Internet   \n",
       "3             1     banner          mobile       Huawei            Chrome   \n",
       "4             1     banner          mobile       Huawei            Chrome   \n",
       "\n",
       "  geo_country  is_target  visit_hour  visit_day_of_week  visit_month  \n",
       "0      Russia          0          14                  2           11  \n",
       "1      Russia          0          14                  2           11  \n",
       "2      Russia          0           8                  6           11  \n",
       "3      Russia          0           2                  1           12  \n",
       "4      Russia          0           2                  1           12  "
      ]
     },
     "execution_count": 16,
     "metadata": {},
     "output_type": "execute_result"
    }
   ],
   "source": [
    "df.drop(['visit_date', 'visit_time'], axis=1, inplace=True)\n",
    "df.head()"
   ]
  },
  {
   "cell_type": "code",
   "execution_count": 17,
   "id": "7c8fbc11-eefe-4868-8cfe-a1aa480811ba",
   "metadata": {
    "ExecuteTime": {
     "end_time": "2024-05-08T12:16:28.110348Z",
     "start_time": "2024-05-08T12:16:28.090169Z"
    }
   },
   "outputs": [
    {
     "name": "stdout",
     "output_type": "stream",
     "text": [
      "<class 'pandas.core.frame.DataFrame'>\n",
      "Index: 15459382 entries, 0 to 15685218\n",
      "Data columns (total 10 columns):\n",
      " #   Column             Dtype \n",
      "---  ------             ----- \n",
      " 0   visit_number       int64 \n",
      " 1   utm_medium         object\n",
      " 2   device_category    object\n",
      " 3   device_brand       object\n",
      " 4   device_browser     object\n",
      " 5   geo_country        object\n",
      " 6   is_target          int64 \n",
      " 7   visit_hour         int32 \n",
      " 8   visit_day_of_week  int32 \n",
      " 9   visit_month        int32 \n",
      "dtypes: int32(3), int64(2), object(5)\n",
      "memory usage: 1.1+ GB\n"
     ]
    }
   ],
   "source": [
    "df.info()\n"
   ]
  },
  {
   "cell_type": "code",
   "execution_count": 18,
   "id": "b092e1c7-6d22-4187-aafd-1a87fa398bb8",
   "metadata": {
    "ExecuteTime": {
     "end_time": "2024-05-08T12:16:28.979816Z",
     "start_time": "2024-05-08T12:16:28.112368Z"
    }
   },
   "outputs": [],
   "source": [
    "x = df.drop(['is_target'], axis=1)\n",
    "y = df['is_target']"
   ]
  },
  {
   "cell_type": "code",
   "execution_count": 19,
   "id": "2f8355b5",
   "metadata": {
    "ExecuteTime": {
     "end_time": "2024-05-08T12:16:30.770323Z",
     "start_time": "2024-05-08T12:16:28.993841Z"
    }
   },
   "outputs": [
    {
     "name": "stdout",
     "output_type": "stream",
     "text": [
      "Index(['utm_medium', 'device_category', 'device_brand', 'device_browser',\n",
      "       'geo_country'],\n",
      "      dtype='object')\n",
      "Index(['visit_number', 'visit_hour', 'visit_day_of_week', 'visit_month'], dtype='object')\n"
     ]
    }
   ],
   "source": [
    "categorial_features = x.select_dtypes(include=['object']).columns\n",
    "numerical_features = x.select_dtypes(exclude=['object']).columns\n",
    "print(categorial_features)\n",
    "print(numerical_features)\n"
   ]
  },
  {
   "cell_type": "code",
   "execution_count": 20,
   "id": "b648513160f8e572",
   "metadata": {
    "ExecuteTime": {
     "end_time": "2024-05-08T12:16:32.232637Z",
     "start_time": "2024-05-08T12:16:30.777333Z"
    }
   },
   "outputs": [
    {
     "data": {
      "text/plain": [
       "15"
      ]
     },
     "execution_count": 20,
     "metadata": {},
     "output_type": "execute_result"
    }
   ],
   "source": [
    "del df\n",
    "gc.collect()"
   ]
  },
  {
   "cell_type": "code",
   "execution_count": 21,
   "id": "781c1c833836116b",
   "metadata": {
    "ExecuteTime": {
     "end_time": "2024-05-08T12:16:36.345061Z",
     "start_time": "2024-05-08T12:16:32.234644Z"
    }
   },
   "outputs": [
    {
     "data": {
      "text/plain": [
       "[array(['banner', 'cpm', 'cpc', 'organic', '(none)', 'referral', 'smm',\n",
       "        'stories', 'blogger_channel', 'blogger_stories', 'email', 'app',\n",
       "        'push', 'partner', 'tg', 'cpv', 'cpa', 'post', 'smartbanner',\n",
       "        'info_text', 'outlook', 'clicks', 'landing', 'blogger_header',\n",
       "        'qr', '(not set)', 'google_cpc', 'sms', 'article', 'vk_smm',\n",
       "        'static', 'cbaafe', 'Sbol_catalog', 'fb_smm', 'landing_interests',\n",
       "        'yandex_cpc', 'web_polka', 'ok_smm', 'linktest', 'sber_app', 'CPM',\n",
       "        'medium', 'tablet', 'promo_sbol', 'reach', 'dom_click', 'nkp',\n",
       "        'social', 'catalogue', 'main_polka', 'last', 'link', 'users_msk',\n",
       "        'qrcodevideo', 'promo_sber'], dtype=object),\n",
       " array(['mobile', 'tablet', 'desktop'], dtype=object),\n",
       " array(['Huawei', 'Samsung', 'Xiaomi', 'Apple', 'Lenovo', 'other', 'Vivo',\n",
       "        'Meizu', 'OnePlus', '(not set)', 'BQ', 'Realme', 'OPPO', 'itel',\n",
       "        'Philips', 'Nokia', 'Alcatel', 'LG', 'Tecno', 'Asus', 'Infinix',\n",
       "        'Sony', 'ZTE', 'Wiko', 'Google', 'Micromax', 'Blackview',\n",
       "        'Oukitel', 'Motorola', 'HOMTOM', 'Cubot', 'DOOGEE', 'China Phone',\n",
       "        'DEXP', 'Neffos', 'TP-Link', 'Hisense', 'Acer', 'Vsmart',\n",
       "        'BlackBerry', 'Umidigi', 'Leagoo', 'Highscreen', 'Ulefone',\n",
       "        'Symphony', 'LeEco', 'Prestigio', 'POCO', 'Vestel', 'Guophone',\n",
       "        'Wileyfox', 'HTC', 'Vertex', 'CAT', 'InFocus', 'TCL',\n",
       "        'SonyEricsson', 'Inoi', 'Nomu', 'Jiake', 'ZOJI', 'Mozilla',\n",
       "        'Tele2', 'H96', 'Kyocera', 'Karbonn', 'BLU', 'Haier', 'Kingplay',\n",
       "        'Sharp', 'Coolpad', 'MTC', 'LeTV', 'iNew', 'Vernee', 'A1',\n",
       "        'Gionee', 'General Mobile', 'Digma', 'Yota Devices', 'Gome',\n",
       "        'Egreat', 'Kata', 'Mito', 'Poptel', 'Flylion', 'AGM', 'SenseIT',\n",
       "        'Archos', 'Teclast', 'Fly', 'MLS', 'Keecoo', 'Panasonic', 'InnJoo',\n",
       "        'Iris', 'Itoos', 'Black Fox', 'Nuu', 'Celkon', 'Chuwi', 'Walton',\n",
       "        'Xiaolajiao', 'Lava', 'myPhone', 'Condor', 'Razer', 'Fujitsu',\n",
       "        'Alldocube', 'UGOOS', 'Amazon', 'PPTV', 'Pantech', 'NOA',\n",
       "        'Caterpillar', 'Wigor', 'Oysters', 'Komu', 'Artel', 'Ananda',\n",
       "        'Smartisan', 'Elephone', 'Cube', 'Flexymove', 'AT&T', 'Advan',\n",
       "        'Fairphone', 'Corn', 'Tonbux', 'TurboPad', 'Dark', 'T-Mobile',\n",
       "        'China Mobile', 'Smartfren', 'MXQ', 'Billion', 'teXet', 'MTS',\n",
       "        'Geotel', 'BLUBOO', 'INUI', 'Hafury', 'Krip', 'MediaTek',\n",
       "        'Digiland', 'Unihertz', 'Ark', 'Essential', 'Dragon Touch', 'E&L',\n",
       "        'Fero', 'Land Rover', 'Tanix', 'Vertu', 'Mlais', 'Ken Xin Da',\n",
       "        'Beelink', 'Orbic', 'Irbis', 'Honeywell', 'RED', 'QMobile',\n",
       "        'Sonim', 'Jiayu', 'Evertek', 'Gretel', 'Tesla', 'Vodafone',\n",
       "        'Explay', 'Evercoss', 'Wexler', 'Smarteo', 'Olla', 'Star',\n",
       "        'Mobiistar', 'ThL', 'Honor', 'Microsoft', 'Xgody', 'Yuntab', 'LTC',\n",
       "        'Motive', 'Verizon', 'Wieppo', 'UMI', 'M-HORSE', 'Winnovo', 'Qbex',\n",
       "        'Nomi', 'Wings Mobile', 'How', 'Centric', 'Gigaset', 'Maze',\n",
       "        'Dell', 'China TVBox', 'Kenxinda', 'Tagital', 'Dynamic', 'FREETEL',\n",
       "        'Maxvi'], dtype=object),\n",
       " array(['Chrome', 'Samsung Internet', 'Safari', 'YaBrowser',\n",
       "        'Android Webview', 'Safari (in-app)', 'Opera', 'Firefox', 'Edge',\n",
       "        'helloworld', 'Android Runtime', 'UC Browser',\n",
       "        'Instagram 208.0.0.32.135 Android', 'Mozilla Compatible Agent',\n",
       "        '(not set)', 'Mozilla', 'Opera Mini', 'Coc Coc', 'Android',\n",
       "        'Instagram 216.1.0.21.137 Android', '[FBAN', 'Internet Explorer',\n",
       "        'Puffin', 'MRCHROME', 'com.vk.vkclient',\n",
       "        'Instagram 209.0.0.21.119 Android', 'Instagram 202.0.0.23.119',\n",
       "        'Instagram 213.0.0.29.120 Android', 'Android Browser', 'Maxthon',\n",
       "        'Instagram 207.0.0.28.118', 'Instagram 199.1.0.34.119 Android',\n",
       "        'Instagram 192.0.0.37.119', 'Amazon Silk', 'SeaMonkey',\n",
       "        'Instagram 194.0.0.36.172 Android', 'Instagram 216.0.0.12.135',\n",
       "        'Instagram 202.0.0.37.123 Android', 'MyApp', 'NetFront',\n",
       "        'Instagram 201.0.0.23.111', 'Instagram 203.0.0.26.117',\n",
       "        'Instagram 192.0.0.35.123 Android',\n",
       "        'Instagram 212.0.0.38.119 Android', 'Instagram 208.0.0.26.131',\n",
       "        'MT6735_TD', 'Instagram 199.0.0.27.120', 'NokiaX2-02',\n",
       "        'Instagram 158.0.0.30.123 Android', 'Nokia501',\n",
       "        'com.zhiliaoapp.musically', 'Konqueror',\n",
       "        'Instagram 213.0.0.19.117', 'Iron', 'Threads 202.0.0.23.119'],\n",
       "       dtype=object),\n",
       " array(['Russia', 'United States', 'Ukraine', 'Italy', 'Belarus',\n",
       "        '(not set)', 'Sweden', 'Australia', 'Kazakhstan', 'Estonia',\n",
       "        'Azerbaijan', 'Brazil', 'Montenegro', 'Bulgaria', 'Georgia',\n",
       "        'Uzbekistan', 'Tajikistan', 'Ireland', 'Cyprus',\n",
       "        'United Arab Emirates', 'Germany', 'United Kingdom', 'Netherlands',\n",
       "        'Spain', 'Finland', 'Turkey', 'Poland', 'Kyrgyzstan', 'India',\n",
       "        'Bangladesh', 'Latvia', 'Seychelles', 'Norway', 'Armenia',\n",
       "        'Argentina', 'Guatemala', 'Lithuania', 'Iraq', 'Canada', 'Greece',\n",
       "        'Antigua & Barbuda', 'France', 'Slovakia', 'Palestine',\n",
       "        'Saudi Arabia', 'Iran', 'Czechia', 'Austria', 'Singapore',\n",
       "        'Moldova', 'Indonesia', 'Dominican Republic', 'Denmark', 'Albania',\n",
       "        'Switzerland', 'China', 'Portugal', 'Israel', 'Slovenia',\n",
       "        'Iceland', 'Maldives', 'Mexico', 'Wallis & Futuna', 'Egypt',\n",
       "        'Guadeloupe', 'South Korea', 'Hungary', 'Uganda',\n",
       "        'Bosnia & Herzegovina', 'Thailand', 'Romania', 'Turkmenistan',\n",
       "        'Lebanon', 'Algeria', 'Croatia', 'Cuba', 'Sudan', 'Cambodia',\n",
       "        'Pakistan', 'Afghanistan', 'Vietnam', 'Mongolia', 'Mauritius',\n",
       "        'South Sudan', 'Japan', 'Central African Republic', 'Malta',\n",
       "        'Burundi', 'Tunisia', 'Ecuador', 'Qatar', 'Serbia', 'Morocco',\n",
       "        'Luxembourg', 'Belgium', 'North Macedonia', 'Togo', 'Kuwait',\n",
       "        'Venezuela', 'Sri Lanka', 'South Africa', 'Angola', 'Guinea',\n",
       "        'Kenya', 'Senegal', 'Bahrain', 'Libya', 'Puerto Rico', 'Nicaragua',\n",
       "        'Syria', 'Oman', 'Myanmar (Burma)', 'Nigeria', 'Jordan', 'Chile',\n",
       "        'Hong Kong', 'Congo - Kinshasa', 'Andorra', 'Yemen', 'Colombia',\n",
       "        'Laos', 'Peru', 'Taiwan', 'Rwanda', 'Malaysia', 'Mozambique',\n",
       "        'New Zealand', 'Zimbabwe', 'Panama', 'Monaco', 'Namibia',\n",
       "        'Tanzania', 'New Caledonia', 'Ghana', 'Philippines', 'Gibraltar',\n",
       "        'Ethiopia', 'Paraguay', 'Mali', 'Barbados', 'Réunion',\n",
       "        'Svalbard & Jan Mayen', 'Haiti', 'Somalia', 'Aruba',\n",
       "        'Sierra Leone', 'Uruguay', 'North Korea', 'Nepal', 'Faroe Islands',\n",
       "        'Guernsey', 'French Guiana', 'Costa Rica', 'Burkina Faso',\n",
       "        'Côte d’Ivoire', 'Equatorial Guinea', 'Cameroon', 'Madagascar',\n",
       "        'Congo - Brazzaville'], dtype=object)]"
      ]
     },
     "execution_count": 21,
     "metadata": {},
     "output_type": "execute_result"
    }
   ],
   "source": [
    "categories = [x[column].unique() for column in x[categorial_features].columns]\n",
    "categories"
   ]
  },
  {
   "cell_type": "code",
   "execution_count": 22,
   "id": "31ceccd9f0345fcd",
   "metadata": {
    "ExecuteTime": {
     "end_time": "2024-05-08T12:16:50.754675Z",
     "start_time": "2024-05-08T12:16:36.347069Z"
    }
   },
   "outputs": [
    {
     "data": {
      "text/html": [
       "<div>\n",
       "<style scoped>\n",
       "    .dataframe tbody tr th:only-of-type {\n",
       "        vertical-align: middle;\n",
       "    }\n",
       "\n",
       "    .dataframe tbody tr th {\n",
       "        vertical-align: top;\n",
       "    }\n",
       "\n",
       "    .dataframe thead th {\n",
       "        text-align: right;\n",
       "    }\n",
       "</style>\n",
       "<table border=\"1\" class=\"dataframe\">\n",
       "  <thead>\n",
       "    <tr style=\"text-align: right;\">\n",
       "      <th></th>\n",
       "      <th>visit_number</th>\n",
       "      <th>utm_medium</th>\n",
       "      <th>device_category</th>\n",
       "      <th>device_brand</th>\n",
       "      <th>device_browser</th>\n",
       "      <th>geo_country</th>\n",
       "      <th>visit_hour</th>\n",
       "      <th>visit_day_of_week</th>\n",
       "      <th>visit_month</th>\n",
       "    </tr>\n",
       "  </thead>\n",
       "  <tbody>\n",
       "    <tr>\n",
       "      <th>0</th>\n",
       "      <td>1</td>\n",
       "      <td>0.0</td>\n",
       "      <td>0.0</td>\n",
       "      <td>0.0</td>\n",
       "      <td>0.0</td>\n",
       "      <td>0.0</td>\n",
       "      <td>14</td>\n",
       "      <td>2</td>\n",
       "      <td>11</td>\n",
       "    </tr>\n",
       "    <tr>\n",
       "      <th>1</th>\n",
       "      <td>1</td>\n",
       "      <td>0.0</td>\n",
       "      <td>0.0</td>\n",
       "      <td>0.0</td>\n",
       "      <td>0.0</td>\n",
       "      <td>0.0</td>\n",
       "      <td>14</td>\n",
       "      <td>2</td>\n",
       "      <td>11</td>\n",
       "    </tr>\n",
       "    <tr>\n",
       "      <th>2</th>\n",
       "      <td>1</td>\n",
       "      <td>1.0</td>\n",
       "      <td>0.0</td>\n",
       "      <td>1.0</td>\n",
       "      <td>1.0</td>\n",
       "      <td>0.0</td>\n",
       "      <td>8</td>\n",
       "      <td>6</td>\n",
       "      <td>11</td>\n",
       "    </tr>\n",
       "    <tr>\n",
       "      <th>3</th>\n",
       "      <td>1</td>\n",
       "      <td>0.0</td>\n",
       "      <td>0.0</td>\n",
       "      <td>0.0</td>\n",
       "      <td>0.0</td>\n",
       "      <td>0.0</td>\n",
       "      <td>2</td>\n",
       "      <td>1</td>\n",
       "      <td>12</td>\n",
       "    </tr>\n",
       "    <tr>\n",
       "      <th>4</th>\n",
       "      <td>1</td>\n",
       "      <td>0.0</td>\n",
       "      <td>0.0</td>\n",
       "      <td>0.0</td>\n",
       "      <td>0.0</td>\n",
       "      <td>0.0</td>\n",
       "      <td>2</td>\n",
       "      <td>1</td>\n",
       "      <td>12</td>\n",
       "    </tr>\n",
       "  </tbody>\n",
       "</table>\n",
       "</div>"
      ],
      "text/plain": [
       "   visit_number  utm_medium  device_category  device_brand  device_browser  \\\n",
       "0             1         0.0              0.0           0.0             0.0   \n",
       "1             1         0.0              0.0           0.0             0.0   \n",
       "2             1         1.0              0.0           1.0             1.0   \n",
       "3             1         0.0              0.0           0.0             0.0   \n",
       "4             1         0.0              0.0           0.0             0.0   \n",
       "\n",
       "   geo_country  visit_hour  visit_day_of_week  visit_month  \n",
       "0          0.0          14                  2           11  \n",
       "1          0.0          14                  2           11  \n",
       "2          0.0           8                  6           11  \n",
       "3          0.0           2                  1           12  \n",
       "4          0.0           2                  1           12  "
      ]
     },
     "execution_count": 22,
     "metadata": {},
     "output_type": "execute_result"
    }
   ],
   "source": [
    "encoder = OrdinalEncoder(categories=categories)\n",
    "x[categorial_features] = encoder.fit_transform(x[categorial_features])\n",
    "x.head()"
   ]
  },
  {
   "cell_type": "code",
   "execution_count": 27,
   "id": "d10b015a",
   "metadata": {
    "ExecuteTime": {
     "end_time": "2024-05-08T12:23:11.753986Z",
     "start_time": "2024-05-08T12:23:11.749169Z"
    }
   },
   "outputs": [
    {
     "name": "stdout",
     "output_type": "stream",
     "text": [
      "['std_visit_number', 'std_visit_hour', 'std_visit_day_of_week', 'std_visit_month']\n"
     ]
    }
   ],
   "source": [
    "new_num_features = []\n",
    "for col in numerical_features:\n",
    "    new_num_features.append('std_'+col)\n",
    "print(new_num_features)"
   ]
  },
  {
   "cell_type": "code",
   "execution_count": 28,
   "id": "b7a7fc28",
   "metadata": {
    "ExecuteTime": {
     "end_time": "2024-05-08T12:23:27.295776Z",
     "start_time": "2024-05-08T12:23:27.290275Z"
    }
   },
   "outputs": [],
   "source": [
    "scaler = StandardScaler()"
   ]
  },
  {
   "cell_type": "code",
   "execution_count": 29,
   "id": "507bd7737a3b7fe3",
   "metadata": {
    "ExecuteTime": {
     "end_time": "2024-05-08T12:23:57.362139Z",
     "start_time": "2024-05-08T12:23:55.205461Z"
    }
   },
   "outputs": [
    {
     "data": {
      "text/html": [
       "<div>\n",
       "<style scoped>\n",
       "    .dataframe tbody tr th:only-of-type {\n",
       "        vertical-align: middle;\n",
       "    }\n",
       "\n",
       "    .dataframe tbody tr th {\n",
       "        vertical-align: top;\n",
       "    }\n",
       "\n",
       "    .dataframe thead th {\n",
       "        text-align: right;\n",
       "    }\n",
       "</style>\n",
       "<table border=\"1\" class=\"dataframe\">\n",
       "  <thead>\n",
       "    <tr style=\"text-align: right;\">\n",
       "      <th></th>\n",
       "      <th>visit_number</th>\n",
       "      <th>utm_medium</th>\n",
       "      <th>device_category</th>\n",
       "      <th>device_brand</th>\n",
       "      <th>device_browser</th>\n",
       "      <th>geo_country</th>\n",
       "      <th>visit_hour</th>\n",
       "      <th>visit_day_of_week</th>\n",
       "      <th>visit_month</th>\n",
       "      <th>std_visit_number</th>\n",
       "      <th>std_visit_hour</th>\n",
       "      <th>std_visit_day_of_week</th>\n",
       "      <th>std_visit_month</th>\n",
       "    </tr>\n",
       "  </thead>\n",
       "  <tbody>\n",
       "    <tr>\n",
       "      <th>0</th>\n",
       "      <td>1</td>\n",
       "      <td>0.0</td>\n",
       "      <td>0.0</td>\n",
       "      <td>0.0</td>\n",
       "      <td>0.0</td>\n",
       "      <td>0.0</td>\n",
       "      <td>14</td>\n",
       "      <td>2</td>\n",
       "      <td>11</td>\n",
       "      <td>-0.135149</td>\n",
       "      <td>0.042238</td>\n",
       "      <td>-0.372745</td>\n",
       "      <td>0.778369</td>\n",
       "    </tr>\n",
       "    <tr>\n",
       "      <th>1</th>\n",
       "      <td>1</td>\n",
       "      <td>0.0</td>\n",
       "      <td>0.0</td>\n",
       "      <td>0.0</td>\n",
       "      <td>0.0</td>\n",
       "      <td>0.0</td>\n",
       "      <td>14</td>\n",
       "      <td>2</td>\n",
       "      <td>11</td>\n",
       "      <td>-0.135149</td>\n",
       "      <td>0.042238</td>\n",
       "      <td>-0.372745</td>\n",
       "      <td>0.778369</td>\n",
       "    </tr>\n",
       "    <tr>\n",
       "      <th>2</th>\n",
       "      <td>1</td>\n",
       "      <td>1.0</td>\n",
       "      <td>0.0</td>\n",
       "      <td>1.0</td>\n",
       "      <td>1.0</td>\n",
       "      <td>0.0</td>\n",
       "      <td>8</td>\n",
       "      <td>6</td>\n",
       "      <td>11</td>\n",
       "      <td>-0.135149</td>\n",
       "      <td>-0.935926</td>\n",
       "      <td>1.631551</td>\n",
       "      <td>0.778369</td>\n",
       "    </tr>\n",
       "    <tr>\n",
       "      <th>3</th>\n",
       "      <td>1</td>\n",
       "      <td>0.0</td>\n",
       "      <td>0.0</td>\n",
       "      <td>0.0</td>\n",
       "      <td>0.0</td>\n",
       "      <td>0.0</td>\n",
       "      <td>2</td>\n",
       "      <td>1</td>\n",
       "      <td>12</td>\n",
       "      <td>-0.135149</td>\n",
       "      <td>-1.914090</td>\n",
       "      <td>-0.873819</td>\n",
       "      <td>1.209999</td>\n",
       "    </tr>\n",
       "    <tr>\n",
       "      <th>4</th>\n",
       "      <td>1</td>\n",
       "      <td>0.0</td>\n",
       "      <td>0.0</td>\n",
       "      <td>0.0</td>\n",
       "      <td>0.0</td>\n",
       "      <td>0.0</td>\n",
       "      <td>2</td>\n",
       "      <td>1</td>\n",
       "      <td>12</td>\n",
       "      <td>-0.135149</td>\n",
       "      <td>-1.914090</td>\n",
       "      <td>-0.873819</td>\n",
       "      <td>1.209999</td>\n",
       "    </tr>\n",
       "  </tbody>\n",
       "</table>\n",
       "</div>"
      ],
      "text/plain": [
       "   visit_number  utm_medium  device_category  device_brand  device_browser  \\\n",
       "0             1         0.0              0.0           0.0             0.0   \n",
       "1             1         0.0              0.0           0.0             0.0   \n",
       "2             1         1.0              0.0           1.0             1.0   \n",
       "3             1         0.0              0.0           0.0             0.0   \n",
       "4             1         0.0              0.0           0.0             0.0   \n",
       "\n",
       "   geo_country  visit_hour  visit_day_of_week  visit_month  std_visit_number  \\\n",
       "0          0.0          14                  2           11         -0.135149   \n",
       "1          0.0          14                  2           11         -0.135149   \n",
       "2          0.0           8                  6           11         -0.135149   \n",
       "3          0.0           2                  1           12         -0.135149   \n",
       "4          0.0           2                  1           12         -0.135149   \n",
       "\n",
       "   std_visit_hour  std_visit_day_of_week  std_visit_month  \n",
       "0        0.042238              -0.372745         0.778369  \n",
       "1        0.042238              -0.372745         0.778369  \n",
       "2       -0.935926               1.631551         0.778369  \n",
       "3       -1.914090              -0.873819         1.209999  \n",
       "4       -1.914090              -0.873819         1.209999  "
      ]
     },
     "execution_count": 29,
     "metadata": {},
     "output_type": "execute_result"
    }
   ],
   "source": [
    "x[new_num_features] = scaler.fit_transform(x[numerical_features])\n",
    "x.head()"
   ]
  },
  {
   "cell_type": "code",
   "execution_count": 30,
   "id": "4dda0c2367a3d49e",
   "metadata": {
    "ExecuteTime": {
     "end_time": "2024-05-08T12:24:18.281942Z",
     "start_time": "2024-05-08T12:24:17.724896Z"
    }
   },
   "outputs": [
    {
     "data": {
      "text/html": [
       "<div>\n",
       "<style scoped>\n",
       "    .dataframe tbody tr th:only-of-type {\n",
       "        vertical-align: middle;\n",
       "    }\n",
       "\n",
       "    .dataframe tbody tr th {\n",
       "        vertical-align: top;\n",
       "    }\n",
       "\n",
       "    .dataframe thead th {\n",
       "        text-align: right;\n",
       "    }\n",
       "</style>\n",
       "<table border=\"1\" class=\"dataframe\">\n",
       "  <thead>\n",
       "    <tr style=\"text-align: right;\">\n",
       "      <th></th>\n",
       "      <th>utm_medium</th>\n",
       "      <th>device_category</th>\n",
       "      <th>device_brand</th>\n",
       "      <th>device_browser</th>\n",
       "      <th>geo_country</th>\n",
       "      <th>std_visit_number</th>\n",
       "      <th>std_visit_hour</th>\n",
       "      <th>std_visit_day_of_week</th>\n",
       "      <th>std_visit_month</th>\n",
       "    </tr>\n",
       "  </thead>\n",
       "  <tbody>\n",
       "    <tr>\n",
       "      <th>0</th>\n",
       "      <td>0.0</td>\n",
       "      <td>0.0</td>\n",
       "      <td>0.0</td>\n",
       "      <td>0.0</td>\n",
       "      <td>0.0</td>\n",
       "      <td>-0.135149</td>\n",
       "      <td>0.042238</td>\n",
       "      <td>-0.372745</td>\n",
       "      <td>0.778369</td>\n",
       "    </tr>\n",
       "    <tr>\n",
       "      <th>1</th>\n",
       "      <td>0.0</td>\n",
       "      <td>0.0</td>\n",
       "      <td>0.0</td>\n",
       "      <td>0.0</td>\n",
       "      <td>0.0</td>\n",
       "      <td>-0.135149</td>\n",
       "      <td>0.042238</td>\n",
       "      <td>-0.372745</td>\n",
       "      <td>0.778369</td>\n",
       "    </tr>\n",
       "    <tr>\n",
       "      <th>2</th>\n",
       "      <td>1.0</td>\n",
       "      <td>0.0</td>\n",
       "      <td>1.0</td>\n",
       "      <td>1.0</td>\n",
       "      <td>0.0</td>\n",
       "      <td>-0.135149</td>\n",
       "      <td>-0.935926</td>\n",
       "      <td>1.631551</td>\n",
       "      <td>0.778369</td>\n",
       "    </tr>\n",
       "    <tr>\n",
       "      <th>3</th>\n",
       "      <td>0.0</td>\n",
       "      <td>0.0</td>\n",
       "      <td>0.0</td>\n",
       "      <td>0.0</td>\n",
       "      <td>0.0</td>\n",
       "      <td>-0.135149</td>\n",
       "      <td>-1.914090</td>\n",
       "      <td>-0.873819</td>\n",
       "      <td>1.209999</td>\n",
       "    </tr>\n",
       "    <tr>\n",
       "      <th>4</th>\n",
       "      <td>0.0</td>\n",
       "      <td>0.0</td>\n",
       "      <td>0.0</td>\n",
       "      <td>0.0</td>\n",
       "      <td>0.0</td>\n",
       "      <td>-0.135149</td>\n",
       "      <td>-1.914090</td>\n",
       "      <td>-0.873819</td>\n",
       "      <td>1.209999</td>\n",
       "    </tr>\n",
       "  </tbody>\n",
       "</table>\n",
       "</div>"
      ],
      "text/plain": [
       "   utm_medium  device_category  device_brand  device_browser  geo_country  \\\n",
       "0         0.0              0.0           0.0             0.0          0.0   \n",
       "1         0.0              0.0           0.0             0.0          0.0   \n",
       "2         1.0              0.0           1.0             1.0          0.0   \n",
       "3         0.0              0.0           0.0             0.0          0.0   \n",
       "4         0.0              0.0           0.0             0.0          0.0   \n",
       "\n",
       "   std_visit_number  std_visit_hour  std_visit_day_of_week  std_visit_month  \n",
       "0         -0.135149        0.042238              -0.372745         0.778369  \n",
       "1         -0.135149        0.042238              -0.372745         0.778369  \n",
       "2         -0.135149       -0.935926               1.631551         0.778369  \n",
       "3         -0.135149       -1.914090              -0.873819         1.209999  \n",
       "4         -0.135149       -1.914090              -0.873819         1.209999  "
      ]
     },
     "execution_count": 30,
     "metadata": {},
     "output_type": "execute_result"
    }
   ],
   "source": [
    "x.drop(numerical_features, axis=1, inplace=True)\n",
    "x.head()"
   ]
  },
  {
   "cell_type": "code",
   "execution_count": 31,
   "id": "ce633208eb510025",
   "metadata": {
    "ExecuteTime": {
     "end_time": "2024-05-08T12:24:40.238650Z",
     "start_time": "2024-05-08T12:24:37.430406Z"
    }
   },
   "outputs": [
    {
     "data": {
      "text/html": [
       "<div>\n",
       "<style scoped>\n",
       "    .dataframe tbody tr th:only-of-type {\n",
       "        vertical-align: middle;\n",
       "    }\n",
       "\n",
       "    .dataframe tbody tr th {\n",
       "        vertical-align: top;\n",
       "    }\n",
       "\n",
       "    .dataframe thead th {\n",
       "        text-align: right;\n",
       "    }\n",
       "</style>\n",
       "<table border=\"1\" class=\"dataframe\">\n",
       "  <thead>\n",
       "    <tr style=\"text-align: right;\">\n",
       "      <th></th>\n",
       "      <th>utm_medium</th>\n",
       "      <th>device_category</th>\n",
       "      <th>device_brand</th>\n",
       "      <th>device_browser</th>\n",
       "      <th>geo_country</th>\n",
       "      <th>std_visit_number</th>\n",
       "      <th>std_visit_hour</th>\n",
       "      <th>std_visit_day_of_week</th>\n",
       "      <th>std_visit_month</th>\n",
       "      <th>is_target</th>\n",
       "    </tr>\n",
       "  </thead>\n",
       "  <tbody>\n",
       "    <tr>\n",
       "      <th>0</th>\n",
       "      <td>0.0</td>\n",
       "      <td>0.0</td>\n",
       "      <td>0.0</td>\n",
       "      <td>0.0</td>\n",
       "      <td>0.0</td>\n",
       "      <td>-0.135149</td>\n",
       "      <td>0.042238</td>\n",
       "      <td>-0.372745</td>\n",
       "      <td>0.778369</td>\n",
       "      <td>0</td>\n",
       "    </tr>\n",
       "    <tr>\n",
       "      <th>1</th>\n",
       "      <td>0.0</td>\n",
       "      <td>0.0</td>\n",
       "      <td>0.0</td>\n",
       "      <td>0.0</td>\n",
       "      <td>0.0</td>\n",
       "      <td>-0.135149</td>\n",
       "      <td>0.042238</td>\n",
       "      <td>-0.372745</td>\n",
       "      <td>0.778369</td>\n",
       "      <td>0</td>\n",
       "    </tr>\n",
       "    <tr>\n",
       "      <th>2</th>\n",
       "      <td>1.0</td>\n",
       "      <td>0.0</td>\n",
       "      <td>1.0</td>\n",
       "      <td>1.0</td>\n",
       "      <td>0.0</td>\n",
       "      <td>-0.135149</td>\n",
       "      <td>-0.935926</td>\n",
       "      <td>1.631551</td>\n",
       "      <td>0.778369</td>\n",
       "      <td>0</td>\n",
       "    </tr>\n",
       "    <tr>\n",
       "      <th>3</th>\n",
       "      <td>0.0</td>\n",
       "      <td>0.0</td>\n",
       "      <td>0.0</td>\n",
       "      <td>0.0</td>\n",
       "      <td>0.0</td>\n",
       "      <td>-0.135149</td>\n",
       "      <td>-1.914090</td>\n",
       "      <td>-0.873819</td>\n",
       "      <td>1.209999</td>\n",
       "      <td>0</td>\n",
       "    </tr>\n",
       "    <tr>\n",
       "      <th>4</th>\n",
       "      <td>0.0</td>\n",
       "      <td>0.0</td>\n",
       "      <td>0.0</td>\n",
       "      <td>0.0</td>\n",
       "      <td>0.0</td>\n",
       "      <td>-0.135149</td>\n",
       "      <td>-1.914090</td>\n",
       "      <td>-0.873819</td>\n",
       "      <td>1.209999</td>\n",
       "      <td>0</td>\n",
       "    </tr>\n",
       "  </tbody>\n",
       "</table>\n",
       "</div>"
      ],
      "text/plain": [
       "   utm_medium  device_category  device_brand  device_browser  geo_country  \\\n",
       "0         0.0              0.0           0.0             0.0          0.0   \n",
       "1         0.0              0.0           0.0             0.0          0.0   \n",
       "2         1.0              0.0           1.0             1.0          0.0   \n",
       "3         0.0              0.0           0.0             0.0          0.0   \n",
       "4         0.0              0.0           0.0             0.0          0.0   \n",
       "\n",
       "   std_visit_number  std_visit_hour  std_visit_day_of_week  std_visit_month  \\\n",
       "0         -0.135149        0.042238              -0.372745         0.778369   \n",
       "1         -0.135149        0.042238              -0.372745         0.778369   \n",
       "2         -0.135149       -0.935926               1.631551         0.778369   \n",
       "3         -0.135149       -1.914090              -0.873819         1.209999   \n",
       "4         -0.135149       -1.914090              -0.873819         1.209999   \n",
       "\n",
       "   is_target  \n",
       "0          0  \n",
       "1          0  \n",
       "2          0  \n",
       "3          0  \n",
       "4          0  "
      ]
     },
     "execution_count": 31,
     "metadata": {},
     "output_type": "execute_result"
    }
   ],
   "source": [
    "final_df = pd.concat([x, y], axis=1)\n",
    "final_df.head()"
   ]
  },
  {
   "cell_type": "code",
   "execution_count": 32,
   "id": "8e01766691b6e1a3",
   "metadata": {
    "ExecuteTime": {
     "end_time": "2024-05-08T12:27:25.148317Z",
     "start_time": "2024-05-08T12:24:58.091869Z"
    }
   },
   "outputs": [],
   "source": [
    "final_df.to_csv('data/final_data.csv', index=False)"
   ]
  },
  {
   "cell_type": "markdown",
   "id": "ae85e3e1ac771b34",
   "metadata": {},
   "source": [
    "## Modeling"
   ]
  },
  {
   "cell_type": "code",
   "execution_count": 3,
   "id": "8db4ea073869438c",
   "metadata": {
    "ExecuteTime": {
     "end_time": "2024-05-09T10:22:50.143629Z",
     "start_time": "2024-05-09T10:22:33.031355Z"
    }
   },
   "outputs": [
    {
     "data": {
      "text/html": [
       "<div>\n",
       "<style scoped>\n",
       "    .dataframe tbody tr th:only-of-type {\n",
       "        vertical-align: middle;\n",
       "    }\n",
       "\n",
       "    .dataframe tbody tr th {\n",
       "        vertical-align: top;\n",
       "    }\n",
       "\n",
       "    .dataframe thead th {\n",
       "        text-align: right;\n",
       "    }\n",
       "</style>\n",
       "<table border=\"1\" class=\"dataframe\">\n",
       "  <thead>\n",
       "    <tr style=\"text-align: right;\">\n",
       "      <th></th>\n",
       "      <th>utm_medium</th>\n",
       "      <th>device_category</th>\n",
       "      <th>device_brand</th>\n",
       "      <th>device_browser</th>\n",
       "      <th>geo_country</th>\n",
       "      <th>std_visit_number</th>\n",
       "      <th>std_visit_hour</th>\n",
       "      <th>std_visit_day_of_week</th>\n",
       "      <th>std_visit_month</th>\n",
       "      <th>is_target</th>\n",
       "    </tr>\n",
       "  </thead>\n",
       "  <tbody>\n",
       "    <tr>\n",
       "      <th>0</th>\n",
       "      <td>0.0</td>\n",
       "      <td>0.0</td>\n",
       "      <td>0.0</td>\n",
       "      <td>0.0</td>\n",
       "      <td>0.0</td>\n",
       "      <td>-0.135149</td>\n",
       "      <td>0.042238</td>\n",
       "      <td>-0.372745</td>\n",
       "      <td>0.778369</td>\n",
       "      <td>0</td>\n",
       "    </tr>\n",
       "    <tr>\n",
       "      <th>1</th>\n",
       "      <td>0.0</td>\n",
       "      <td>0.0</td>\n",
       "      <td>0.0</td>\n",
       "      <td>0.0</td>\n",
       "      <td>0.0</td>\n",
       "      <td>-0.135149</td>\n",
       "      <td>0.042238</td>\n",
       "      <td>-0.372745</td>\n",
       "      <td>0.778369</td>\n",
       "      <td>0</td>\n",
       "    </tr>\n",
       "    <tr>\n",
       "      <th>2</th>\n",
       "      <td>1.0</td>\n",
       "      <td>0.0</td>\n",
       "      <td>1.0</td>\n",
       "      <td>1.0</td>\n",
       "      <td>0.0</td>\n",
       "      <td>-0.135149</td>\n",
       "      <td>-0.935926</td>\n",
       "      <td>1.631551</td>\n",
       "      <td>0.778369</td>\n",
       "      <td>0</td>\n",
       "    </tr>\n",
       "    <tr>\n",
       "      <th>3</th>\n",
       "      <td>0.0</td>\n",
       "      <td>0.0</td>\n",
       "      <td>0.0</td>\n",
       "      <td>0.0</td>\n",
       "      <td>0.0</td>\n",
       "      <td>-0.135149</td>\n",
       "      <td>-1.914090</td>\n",
       "      <td>-0.873819</td>\n",
       "      <td>1.209999</td>\n",
       "      <td>0</td>\n",
       "    </tr>\n",
       "    <tr>\n",
       "      <th>4</th>\n",
       "      <td>0.0</td>\n",
       "      <td>0.0</td>\n",
       "      <td>0.0</td>\n",
       "      <td>0.0</td>\n",
       "      <td>0.0</td>\n",
       "      <td>-0.135149</td>\n",
       "      <td>-1.914090</td>\n",
       "      <td>-0.873819</td>\n",
       "      <td>1.209999</td>\n",
       "      <td>0</td>\n",
       "    </tr>\n",
       "  </tbody>\n",
       "</table>\n",
       "</div>"
      ],
      "text/plain": [
       "   utm_medium  device_category  device_brand  device_browser  geo_country  \\\n",
       "0         0.0              0.0           0.0             0.0          0.0   \n",
       "1         0.0              0.0           0.0             0.0          0.0   \n",
       "2         1.0              0.0           1.0             1.0          0.0   \n",
       "3         0.0              0.0           0.0             0.0          0.0   \n",
       "4         0.0              0.0           0.0             0.0          0.0   \n",
       "\n",
       "   std_visit_number  std_visit_hour  std_visit_day_of_week  std_visit_month  \\\n",
       "0         -0.135149        0.042238              -0.372745         0.778369   \n",
       "1         -0.135149        0.042238              -0.372745         0.778369   \n",
       "2         -0.135149       -0.935926               1.631551         0.778369   \n",
       "3         -0.135149       -1.914090              -0.873819         1.209999   \n",
       "4         -0.135149       -1.914090              -0.873819         1.209999   \n",
       "\n",
       "   is_target  \n",
       "0          0  \n",
       "1          0  \n",
       "2          0  \n",
       "3          0  \n",
       "4          0  "
      ]
     },
     "execution_count": 3,
     "metadata": {},
     "output_type": "execute_result"
    }
   ],
   "source": [
    "df = pd.read_csv('data/final_data.csv')\n",
    "df.head()"
   ]
  },
  {
   "cell_type": "code",
   "execution_count": 4,
   "id": "b6d9834422565d16",
   "metadata": {
    "ExecuteTime": {
     "end_time": "2024-05-09T10:22:50.474506Z",
     "start_time": "2024-05-09T10:22:50.145634Z"
    }
   },
   "outputs": [],
   "source": [
    "x = df.drop(['is_target'], axis=1)\n",
    "y = df['is_target']"
   ]
  },
  {
   "cell_type": "code",
   "execution_count": 5,
   "id": "114bb07a2588c732",
   "metadata": {
    "ExecuteTime": {
     "end_time": "2024-05-09T10:22:54.382168Z",
     "start_time": "2024-05-09T10:22:50.476514Z"
    }
   },
   "outputs": [],
   "source": [
    "x_train, x_test, y_train, y_test = train_test_split(x, y, test_size=0.2, random_state=42)"
   ]
  },
  {
   "cell_type": "code",
   "execution_count": 6,
   "id": "a8f943d3efb8b776",
   "metadata": {
    "ExecuteTime": {
     "end_time": "2024-05-09T10:22:54.388442Z",
     "start_time": "2024-05-09T10:22:54.383172Z"
    }
   },
   "outputs": [
    {
     "data": {
      "text/plain": [
       "(3091877,)"
      ]
     },
     "execution_count": 6,
     "metadata": {},
     "output_type": "execute_result"
    }
   ],
   "source": [
    "y_test.shape"
   ]
  },
  {
   "cell_type": "code",
   "execution_count": null,
   "id": "ce6c9f915ec4b93d",
   "metadata": {
    "ExecuteTime": {
     "start_time": "2024-05-08T15:10:49.731949Z"
    },
    "jupyter": {
     "is_executing": true
    }
   },
   "outputs": [
    {
     "name": "stdout",
     "output_type": "stream",
     "text": [
      "ROC_AUC для LogisticRegression: 0.5795913237482987.\n",
      "ROC_AUC для RandomForestClassifier: 0.78002425215818.\n"
     ]
    }
   ],
   "source": [
    "models = [\n",
    "    LogisticRegression(),\n",
    "    RandomForestClassifier(),\n",
    "    SVC()\n",
    "]\n",
    "\n",
    "for m in models:\n",
    "    m.fit(x_train, y_train)\n",
    "    #y_pred = m.predict(x_test)\n",
    "    print(f'ROC_AUC для {type(m).__name__}: {roc_auc_score(y_test, m.predict_proba(x_test)[:,1])}.')"
   ]
  },
  {
   "cell_type": "markdown",
   "id": "c7720d7c6efc7841",
   "metadata": {},
   "source": [
    "## Results"
   ]
  },
  {
   "cell_type": "markdown",
   "id": "36aa9d42f4770813",
   "metadata": {},
   "source": [
    "По результатам моделирования лучшая модель - RandomForestClassifier\n",
    "По метрике ROC_AUC - 0.78"
   ]
  },
  {
   "cell_type": "code",
   "execution_count": null,
   "id": "67a40893723c93b2",
   "metadata": {},
   "outputs": [],
   "source": []
  }
 ],
 "metadata": {
  "kernelspec": {
   "display_name": "Python 3 (ipykernel)",
   "language": "python",
   "name": "python3"
  },
  "language_info": {
   "codemirror_mode": {
    "name": "ipython",
    "version": 3
   },
   "file_extension": ".py",
   "mimetype": "text/x-python",
   "name": "python",
   "nbconvert_exporter": "python",
   "pygments_lexer": "ipython3",
   "version": "3.11.7"
  }
 },
 "nbformat": 4,
 "nbformat_minor": 5
}
